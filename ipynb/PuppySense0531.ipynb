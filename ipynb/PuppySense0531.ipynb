{
  "cells": [
    {
      "cell_type": "markdown",
      "metadata": {
        "id": "14ncW2slHZx0"
      },
      "source": [
        "# PuppySense\n",
        "\n",
        "인공지능응용 프로젝트\n",
        "\n",
        "모델학습 (colab 환경설정, 전이 학습 설정 진행)\n",
        "\n",
        "\n",
        "\n",
        "\n"
      ]
    },
    {
      "cell_type": "markdown",
      "metadata": {
        "id": "srtlgyO67R6l"
      },
      "source": [
        "## 1. Colab 환경설정 (GPU + 라이브러리 설치)"
      ]
    },
    {
      "cell_type": "code",
      "execution_count": 1,
      "metadata": {
        "colab": {
          "base_uri": "https://localhost:8080/"
        },
        "id": "RL17skCZG1Le",
        "outputId": "e4018e4a-6f88-4cc7-e3fc-f5aafeac96c6"
      },
      "outputs": [
        {
          "name": "stdout",
          "output_type": "stream",
          "text": [
            "Requirement already satisfied: tensorflow in c:\\users\\oculo\\desktop\\test\\artificialin\\.conda\\lib\\site-packages (2.19.0)\n",
            "Requirement already satisfied: opencv-python in c:\\users\\oculo\\desktop\\test\\artificialin\\.conda\\lib\\site-packages (4.11.0.86)\n",
            "Requirement already satisfied: matplotlib in c:\\users\\oculo\\desktop\\test\\artificialin\\.conda\\lib\\site-packages (3.10.3)\n",
            "Requirement already satisfied: absl-py>=1.0.0 in c:\\users\\oculo\\desktop\\test\\artificialin\\.conda\\lib\\site-packages (from tensorflow) (2.3.0)\n",
            "Requirement already satisfied: astunparse>=1.6.0 in c:\\users\\oculo\\desktop\\test\\artificialin\\.conda\\lib\\site-packages (from tensorflow) (1.6.3)\n",
            "Requirement already satisfied: flatbuffers>=24.3.25 in c:\\users\\oculo\\desktop\\test\\artificialin\\.conda\\lib\\site-packages (from tensorflow) (25.2.10)\n",
            "Requirement already satisfied: gast!=0.5.0,!=0.5.1,!=0.5.2,>=0.2.1 in c:\\users\\oculo\\desktop\\test\\artificialin\\.conda\\lib\\site-packages (from tensorflow) (0.6.0)\n",
            "Requirement already satisfied: google-pasta>=0.1.1 in c:\\users\\oculo\\desktop\\test\\artificialin\\.conda\\lib\\site-packages (from tensorflow) (0.2.0)\n",
            "Requirement already satisfied: libclang>=13.0.0 in c:\\users\\oculo\\desktop\\test\\artificialin\\.conda\\lib\\site-packages (from tensorflow) (18.1.1)\n",
            "Requirement already satisfied: opt-einsum>=2.3.2 in c:\\users\\oculo\\desktop\\test\\artificialin\\.conda\\lib\\site-packages (from tensorflow) (3.4.0)\n",
            "Requirement already satisfied: packaging in c:\\users\\oculo\\desktop\\test\\artificialin\\.conda\\lib\\site-packages (from tensorflow) (25.0)\n",
            "Requirement already satisfied: protobuf!=4.21.0,!=4.21.1,!=4.21.2,!=4.21.3,!=4.21.4,!=4.21.5,<6.0.0dev,>=3.20.3 in c:\\users\\oculo\\desktop\\test\\artificialin\\.conda\\lib\\site-packages (from tensorflow) (5.29.5)\n",
            "Requirement already satisfied: requests<3,>=2.21.0 in c:\\users\\oculo\\desktop\\test\\artificialin\\.conda\\lib\\site-packages (from tensorflow) (2.32.3)\n",
            "Requirement already satisfied: setuptools in c:\\users\\oculo\\desktop\\test\\artificialin\\.conda\\lib\\site-packages (from tensorflow) (75.8.0)\n",
            "Requirement already satisfied: six>=1.12.0 in c:\\users\\oculo\\desktop\\test\\artificialin\\.conda\\lib\\site-packages (from tensorflow) (1.17.0)\n",
            "Requirement already satisfied: termcolor>=1.1.0 in c:\\users\\oculo\\desktop\\test\\artificialin\\.conda\\lib\\site-packages (from tensorflow) (3.1.0)\n",
            "Requirement already satisfied: typing-extensions>=3.6.6 in c:\\users\\oculo\\desktop\\test\\artificialin\\.conda\\lib\\site-packages (from tensorflow) (4.13.2)\n",
            "Requirement already satisfied: wrapt>=1.11.0 in c:\\users\\oculo\\desktop\\test\\artificialin\\.conda\\lib\\site-packages (from tensorflow) (1.17.2)\n",
            "Requirement already satisfied: grpcio<2.0,>=1.24.3 in c:\\users\\oculo\\desktop\\test\\artificialin\\.conda\\lib\\site-packages (from tensorflow) (1.71.0)\n",
            "Requirement already satisfied: tensorboard~=2.19.0 in c:\\users\\oculo\\desktop\\test\\artificialin\\.conda\\lib\\site-packages (from tensorflow) (2.19.0)\n",
            "Requirement already satisfied: keras>=3.5.0 in c:\\users\\oculo\\desktop\\test\\artificialin\\.conda\\lib\\site-packages (from tensorflow) (3.10.0)\n",
            "Requirement already satisfied: numpy<2.2.0,>=1.26.0 in c:\\users\\oculo\\desktop\\test\\artificialin\\.conda\\lib\\site-packages (from tensorflow) (2.1.3)\n",
            "Requirement already satisfied: h5py>=3.11.0 in c:\\users\\oculo\\desktop\\test\\artificialin\\.conda\\lib\\site-packages (from tensorflow) (3.13.0)\n",
            "Requirement already satisfied: ml-dtypes<1.0.0,>=0.5.1 in c:\\users\\oculo\\desktop\\test\\artificialin\\.conda\\lib\\site-packages (from tensorflow) (0.5.1)\n",
            "Requirement already satisfied: tensorflow-io-gcs-filesystem>=0.23.1 in c:\\users\\oculo\\desktop\\test\\artificialin\\.conda\\lib\\site-packages (from tensorflow) (0.31.0)\n",
            "Requirement already satisfied: contourpy>=1.0.1 in c:\\users\\oculo\\desktop\\test\\artificialin\\.conda\\lib\\site-packages (from matplotlib) (1.3.2)\n",
            "Requirement already satisfied: cycler>=0.10 in c:\\users\\oculo\\desktop\\test\\artificialin\\.conda\\lib\\site-packages (from matplotlib) (0.12.1)\n",
            "Requirement already satisfied: fonttools>=4.22.0 in c:\\users\\oculo\\desktop\\test\\artificialin\\.conda\\lib\\site-packages (from matplotlib) (4.58.1)\n",
            "Requirement already satisfied: kiwisolver>=1.3.1 in c:\\users\\oculo\\desktop\\test\\artificialin\\.conda\\lib\\site-packages (from matplotlib) (1.4.8)\n",
            "Requirement already satisfied: pillow>=8 in c:\\users\\oculo\\desktop\\test\\artificialin\\.conda\\lib\\site-packages (from matplotlib) (11.2.1)\n",
            "Requirement already satisfied: pyparsing>=2.3.1 in c:\\users\\oculo\\desktop\\test\\artificialin\\.conda\\lib\\site-packages (from matplotlib) (3.2.3)\n",
            "Requirement already satisfied: python-dateutil>=2.7 in c:\\users\\oculo\\desktop\\test\\artificialin\\.conda\\lib\\site-packages (from matplotlib) (2.9.0.post0)\n",
            "Requirement already satisfied: wheel<1.0,>=0.23.0 in c:\\users\\oculo\\desktop\\test\\artificialin\\.conda\\lib\\site-packages (from astunparse>=1.6.0->tensorflow) (0.45.1)\n",
            "Requirement already satisfied: rich in c:\\users\\oculo\\desktop\\test\\artificialin\\.conda\\lib\\site-packages (from keras>=3.5.0->tensorflow) (14.0.0)\n",
            "Requirement already satisfied: namex in c:\\users\\oculo\\desktop\\test\\artificialin\\.conda\\lib\\site-packages (from keras>=3.5.0->tensorflow) (0.1.0)\n",
            "Requirement already satisfied: optree in c:\\users\\oculo\\desktop\\test\\artificialin\\.conda\\lib\\site-packages (from keras>=3.5.0->tensorflow) (0.16.0)\n",
            "Requirement already satisfied: charset-normalizer<4,>=2 in c:\\users\\oculo\\desktop\\test\\artificialin\\.conda\\lib\\site-packages (from requests<3,>=2.21.0->tensorflow) (3.4.2)\n",
            "Requirement already satisfied: idna<4,>=2.5 in c:\\users\\oculo\\desktop\\test\\artificialin\\.conda\\lib\\site-packages (from requests<3,>=2.21.0->tensorflow) (3.10)\n",
            "Requirement already satisfied: urllib3<3,>=1.21.1 in c:\\users\\oculo\\desktop\\test\\artificialin\\.conda\\lib\\site-packages (from requests<3,>=2.21.0->tensorflow) (2.4.0)\n",
            "Requirement already satisfied: certifi>=2017.4.17 in c:\\users\\oculo\\desktop\\test\\artificialin\\.conda\\lib\\site-packages (from requests<3,>=2.21.0->tensorflow) (2025.4.26)\n",
            "Requirement already satisfied: markdown>=2.6.8 in c:\\users\\oculo\\desktop\\test\\artificialin\\.conda\\lib\\site-packages (from tensorboard~=2.19.0->tensorflow) (3.8)\n",
            "Requirement already satisfied: tensorboard-data-server<0.8.0,>=0.7.0 in c:\\users\\oculo\\desktop\\test\\artificialin\\.conda\\lib\\site-packages (from tensorboard~=2.19.0->tensorflow) (0.7.2)\n",
            "Requirement already satisfied: werkzeug>=1.0.1 in c:\\users\\oculo\\desktop\\test\\artificialin\\.conda\\lib\\site-packages (from tensorboard~=2.19.0->tensorflow) (3.1.3)\n",
            "Requirement already satisfied: MarkupSafe>=2.1.1 in c:\\users\\oculo\\desktop\\test\\artificialin\\.conda\\lib\\site-packages (from werkzeug>=1.0.1->tensorboard~=2.19.0->tensorflow) (3.0.2)\n",
            "Requirement already satisfied: markdown-it-py>=2.2.0 in c:\\users\\oculo\\desktop\\test\\artificialin\\.conda\\lib\\site-packages (from rich->keras>=3.5.0->tensorflow) (3.0.0)\n",
            "Requirement already satisfied: pygments<3.0.0,>=2.13.0 in c:\\users\\oculo\\desktop\\test\\artificialin\\.conda\\lib\\site-packages (from rich->keras>=3.5.0->tensorflow) (2.19.1)\n",
            "Requirement already satisfied: mdurl~=0.1 in c:\\users\\oculo\\desktop\\test\\artificialin\\.conda\\lib\\site-packages (from markdown-it-py>=2.2.0->rich->keras>=3.5.0->tensorflow) (0.1.2)\n",
            "Requirement already satisfied: efficientnet in c:\\users\\oculo\\desktop\\test\\artificialin\\.conda\\lib\\site-packages (1.1.1)\n",
            "Requirement already satisfied: keras-applications<=1.0.8,>=1.0.7 in c:\\users\\oculo\\desktop\\test\\artificialin\\.conda\\lib\\site-packages (from efficientnet) (1.0.8)\n",
            "Requirement already satisfied: scikit-image in c:\\users\\oculo\\desktop\\test\\artificialin\\.conda\\lib\\site-packages (from efficientnet) (0.25.2)\n",
            "Requirement already satisfied: numpy>=1.9.1 in c:\\users\\oculo\\desktop\\test\\artificialin\\.conda\\lib\\site-packages (from keras-applications<=1.0.8,>=1.0.7->efficientnet) (2.1.3)\n",
            "Requirement already satisfied: h5py in c:\\users\\oculo\\desktop\\test\\artificialin\\.conda\\lib\\site-packages (from keras-applications<=1.0.8,>=1.0.7->efficientnet) (3.13.0)\n",
            "Requirement already satisfied: scipy>=1.11.4 in c:\\users\\oculo\\desktop\\test\\artificialin\\.conda\\lib\\site-packages (from scikit-image->efficientnet) (1.15.3)\n",
            "Requirement already satisfied: networkx>=3.0 in c:\\users\\oculo\\desktop\\test\\artificialin\\.conda\\lib\\site-packages (from scikit-image->efficientnet) (3.5)\n",
            "Requirement already satisfied: pillow>=10.1 in c:\\users\\oculo\\desktop\\test\\artificialin\\.conda\\lib\\site-packages (from scikit-image->efficientnet) (11.2.1)\n",
            "Requirement already satisfied: imageio!=2.35.0,>=2.33 in c:\\users\\oculo\\desktop\\test\\artificialin\\.conda\\lib\\site-packages (from scikit-image->efficientnet) (2.37.0)\n",
            "Requirement already satisfied: tifffile>=2022.8.12 in c:\\users\\oculo\\desktop\\test\\artificialin\\.conda\\lib\\site-packages (from scikit-image->efficientnet) (2025.5.26)\n",
            "Requirement already satisfied: packaging>=21 in c:\\users\\oculo\\desktop\\test\\artificialin\\.conda\\lib\\site-packages (from scikit-image->efficientnet) (25.0)\n",
            "Requirement already satisfied: lazy-loader>=0.4 in c:\\users\\oculo\\desktop\\test\\artificialin\\.conda\\lib\\site-packages (from scikit-image->efficientnet) (0.4)\n",
            "Requirement already satisfied: pandas in c:\\users\\oculo\\desktop\\test\\artificialin\\.conda\\lib\\site-packages (2.2.3)\n",
            "Requirement already satisfied: numpy in c:\\users\\oculo\\desktop\\test\\artificialin\\.conda\\lib\\site-packages (2.1.3)\n",
            "Requirement already satisfied: opencv-python in c:\\users\\oculo\\desktop\\test\\artificialin\\.conda\\lib\\site-packages (4.11.0.86)\n",
            "Requirement already satisfied: tensorflow in c:\\users\\oculo\\desktop\\test\\artificialin\\.conda\\lib\\site-packages (2.19.0)\n",
            "Requirement already satisfied: kagglehub in c:\\users\\oculo\\desktop\\test\\artificialin\\.conda\\lib\\site-packages (0.3.12)\n",
            "Requirement already satisfied: python-dateutil>=2.8.2 in c:\\users\\oculo\\desktop\\test\\artificialin\\.conda\\lib\\site-packages (from pandas) (2.9.0.post0)\n",
            "Requirement already satisfied: pytz>=2020.1 in c:\\users\\oculo\\desktop\\test\\artificialin\\.conda\\lib\\site-packages (from pandas) (2025.2)\n",
            "Requirement already satisfied: tzdata>=2022.7 in c:\\users\\oculo\\desktop\\test\\artificialin\\.conda\\lib\\site-packages (from pandas) (2025.2)\n",
            "Requirement already satisfied: absl-py>=1.0.0 in c:\\users\\oculo\\desktop\\test\\artificialin\\.conda\\lib\\site-packages (from tensorflow) (2.3.0)\n",
            "Requirement already satisfied: astunparse>=1.6.0 in c:\\users\\oculo\\desktop\\test\\artificialin\\.conda\\lib\\site-packages (from tensorflow) (1.6.3)\n",
            "Requirement already satisfied: flatbuffers>=24.3.25 in c:\\users\\oculo\\desktop\\test\\artificialin\\.conda\\lib\\site-packages (from tensorflow) (25.2.10)\n",
            "Requirement already satisfied: gast!=0.5.0,!=0.5.1,!=0.5.2,>=0.2.1 in c:\\users\\oculo\\desktop\\test\\artificialin\\.conda\\lib\\site-packages (from tensorflow) (0.6.0)\n",
            "Requirement already satisfied: google-pasta>=0.1.1 in c:\\users\\oculo\\desktop\\test\\artificialin\\.conda\\lib\\site-packages (from tensorflow) (0.2.0)\n",
            "Requirement already satisfied: libclang>=13.0.0 in c:\\users\\oculo\\desktop\\test\\artificialin\\.conda\\lib\\site-packages (from tensorflow) (18.1.1)\n",
            "Requirement already satisfied: opt-einsum>=2.3.2 in c:\\users\\oculo\\desktop\\test\\artificialin\\.conda\\lib\\site-packages (from tensorflow) (3.4.0)\n",
            "Requirement already satisfied: packaging in c:\\users\\oculo\\desktop\\test\\artificialin\\.conda\\lib\\site-packages (from tensorflow) (25.0)\n",
            "Requirement already satisfied: protobuf!=4.21.0,!=4.21.1,!=4.21.2,!=4.21.3,!=4.21.4,!=4.21.5,<6.0.0dev,>=3.20.3 in c:\\users\\oculo\\desktop\\test\\artificialin\\.conda\\lib\\site-packages (from tensorflow) (5.29.5)\n",
            "Requirement already satisfied: requests<3,>=2.21.0 in c:\\users\\oculo\\desktop\\test\\artificialin\\.conda\\lib\\site-packages (from tensorflow) (2.32.3)\n",
            "Requirement already satisfied: setuptools in c:\\users\\oculo\\desktop\\test\\artificialin\\.conda\\lib\\site-packages (from tensorflow) (75.8.0)\n",
            "Requirement already satisfied: six>=1.12.0 in c:\\users\\oculo\\desktop\\test\\artificialin\\.conda\\lib\\site-packages (from tensorflow) (1.17.0)\n",
            "Requirement already satisfied: termcolor>=1.1.0 in c:\\users\\oculo\\desktop\\test\\artificialin\\.conda\\lib\\site-packages (from tensorflow) (3.1.0)\n",
            "Requirement already satisfied: typing-extensions>=3.6.6 in c:\\users\\oculo\\desktop\\test\\artificialin\\.conda\\lib\\site-packages (from tensorflow) (4.13.2)\n",
            "Requirement already satisfied: wrapt>=1.11.0 in c:\\users\\oculo\\desktop\\test\\artificialin\\.conda\\lib\\site-packages (from tensorflow) (1.17.2)\n",
            "Requirement already satisfied: grpcio<2.0,>=1.24.3 in c:\\users\\oculo\\desktop\\test\\artificialin\\.conda\\lib\\site-packages (from tensorflow) (1.71.0)\n",
            "Requirement already satisfied: tensorboard~=2.19.0 in c:\\users\\oculo\\desktop\\test\\artificialin\\.conda\\lib\\site-packages (from tensorflow) (2.19.0)\n",
            "Requirement already satisfied: keras>=3.5.0 in c:\\users\\oculo\\desktop\\test\\artificialin\\.conda\\lib\\site-packages (from tensorflow) (3.10.0)\n",
            "Requirement already satisfied: h5py>=3.11.0 in c:\\users\\oculo\\desktop\\test\\artificialin\\.conda\\lib\\site-packages (from tensorflow) (3.13.0)\n",
            "Requirement already satisfied: ml-dtypes<1.0.0,>=0.5.1 in c:\\users\\oculo\\desktop\\test\\artificialin\\.conda\\lib\\site-packages (from tensorflow) (0.5.1)\n",
            "Requirement already satisfied: tensorflow-io-gcs-filesystem>=0.23.1 in c:\\users\\oculo\\desktop\\test\\artificialin\\.conda\\lib\\site-packages (from tensorflow) (0.31.0)\n",
            "Requirement already satisfied: pyyaml in c:\\users\\oculo\\desktop\\test\\artificialin\\.conda\\lib\\site-packages (from kagglehub) (6.0.2)\n",
            "Requirement already satisfied: tqdm in c:\\users\\oculo\\desktop\\test\\artificialin\\.conda\\lib\\site-packages (from kagglehub) (4.67.1)\n",
            "Requirement already satisfied: wheel<1.0,>=0.23.0 in c:\\users\\oculo\\desktop\\test\\artificialin\\.conda\\lib\\site-packages (from astunparse>=1.6.0->tensorflow) (0.45.1)\n",
            "Requirement already satisfied: rich in c:\\users\\oculo\\desktop\\test\\artificialin\\.conda\\lib\\site-packages (from keras>=3.5.0->tensorflow) (14.0.0)\n",
            "Requirement already satisfied: namex in c:\\users\\oculo\\desktop\\test\\artificialin\\.conda\\lib\\site-packages (from keras>=3.5.0->tensorflow) (0.1.0)\n",
            "Requirement already satisfied: optree in c:\\users\\oculo\\desktop\\test\\artificialin\\.conda\\lib\\site-packages (from keras>=3.5.0->tensorflow) (0.16.0)\n",
            "Requirement already satisfied: charset-normalizer<4,>=2 in c:\\users\\oculo\\desktop\\test\\artificialin\\.conda\\lib\\site-packages (from requests<3,>=2.21.0->tensorflow) (3.4.2)\n",
            "Requirement already satisfied: idna<4,>=2.5 in c:\\users\\oculo\\desktop\\test\\artificialin\\.conda\\lib\\site-packages (from requests<3,>=2.21.0->tensorflow) (3.10)\n",
            "Requirement already satisfied: urllib3<3,>=1.21.1 in c:\\users\\oculo\\desktop\\test\\artificialin\\.conda\\lib\\site-packages (from requests<3,>=2.21.0->tensorflow) (2.4.0)\n",
            "Requirement already satisfied: certifi>=2017.4.17 in c:\\users\\oculo\\desktop\\test\\artificialin\\.conda\\lib\\site-packages (from requests<3,>=2.21.0->tensorflow) (2025.4.26)\n",
            "Requirement already satisfied: markdown>=2.6.8 in c:\\users\\oculo\\desktop\\test\\artificialin\\.conda\\lib\\site-packages (from tensorboard~=2.19.0->tensorflow) (3.8)\n",
            "Requirement already satisfied: tensorboard-data-server<0.8.0,>=0.7.0 in c:\\users\\oculo\\desktop\\test\\artificialin\\.conda\\lib\\site-packages (from tensorboard~=2.19.0->tensorflow) (0.7.2)\n",
            "Requirement already satisfied: werkzeug>=1.0.1 in c:\\users\\oculo\\desktop\\test\\artificialin\\.conda\\lib\\site-packages (from tensorboard~=2.19.0->tensorflow) (3.1.3)\n",
            "Requirement already satisfied: colorama in c:\\users\\oculo\\desktop\\test\\artificialin\\.conda\\lib\\site-packages (from tqdm->kagglehub) (0.4.6)\n",
            "Requirement already satisfied: MarkupSafe>=2.1.1 in c:\\users\\oculo\\desktop\\test\\artificialin\\.conda\\lib\\site-packages (from werkzeug>=1.0.1->tensorboard~=2.19.0->tensorflow) (3.0.2)\n",
            "Requirement already satisfied: markdown-it-py>=2.2.0 in c:\\users\\oculo\\desktop\\test\\artificialin\\.conda\\lib\\site-packages (from rich->keras>=3.5.0->tensorflow) (3.0.0)\n",
            "Requirement already satisfied: pygments<3.0.0,>=2.13.0 in c:\\users\\oculo\\desktop\\test\\artificialin\\.conda\\lib\\site-packages (from rich->keras>=3.5.0->tensorflow) (2.19.1)\n",
            "Requirement already satisfied: mdurl~=0.1 in c:\\users\\oculo\\desktop\\test\\artificialin\\.conda\\lib\\site-packages (from markdown-it-py>=2.2.0->rich->keras>=3.5.0->tensorflow) (0.1.2)\n",
            "Requirement already satisfied: scikit-learn in c:\\users\\oculo\\desktop\\test\\artificialin\\.conda\\lib\\site-packages (1.6.1)\n",
            "Requirement already satisfied: numpy>=1.19.5 in c:\\users\\oculo\\desktop\\test\\artificialin\\.conda\\lib\\site-packages (from scikit-learn) (2.1.3)\n",
            "Requirement already satisfied: scipy>=1.6.0 in c:\\users\\oculo\\desktop\\test\\artificialin\\.conda\\lib\\site-packages (from scikit-learn) (1.15.3)\n",
            "Requirement already satisfied: joblib>=1.2.0 in c:\\users\\oculo\\desktop\\test\\artificialin\\.conda\\lib\\site-packages (from scikit-learn) (1.5.1)\n",
            "Requirement already satisfied: threadpoolctl>=3.1.0 in c:\\users\\oculo\\desktop\\test\\artificialin\\.conda\\lib\\site-packages (from scikit-learn) (3.6.0)\n"
          ]
        }
      ],
      "source": [
        "!pip install tensorflow opencv-python matplotlib\n",
        "!pip install efficientnet\n",
        "!pip install pandas numpy opencv-python tensorflow kagglehub\n",
        "!pip install scikit-learn\n",
        "\n"
      ]
    },
    {
      "cell_type": "markdown",
      "metadata": {
        "id": "xA0COst99L6j"
      },
      "source": [
        "# 2. 데이터 전처리하기"
      ]
    },
    {
      "cell_type": "markdown",
      "metadata": {
        "id": "qARcpW7i-UiJ"
      },
      "source": [
        "## 2.1 kaggle 데이터 다운하기"
      ]
    },
    {
      "cell_type": "code",
      "execution_count": 53,
      "metadata": {
        "colab": {
          "base_uri": "https://localhost:8080/"
        },
        "collapsed": true,
        "id": "kp5M_tdU9UpI",
        "outputId": "0545b373-06d3-48d4-8ec2-563eaf23e8b1"
      },
      "outputs": [
        {
          "name": "stdout",
          "output_type": "stream",
          "text": [
            "실제 다운로드된 경로: C:\\Users\\oculo\\.cache\\kagglehub\\datasets\\danielshanbalico\\dog-emotion\\versions\\1\n",
            "해당 경로 내 파일/폴더: ['Dog Emotion']\n"
          ]
        }
      ],
      "source": [
        "import os\n",
        "import pandas as pd\n",
        "import numpy as np\n",
        "import tensorflow as tf\n",
        "import cv2\n",
        "import kagglehub\n",
        "\n",
        "# 1. kagglehub로 실제 경로 다운로드\n",
        "path = kagglehub.dataset_download(\"danielshanbalico/dog-emotion\")\n",
        "data_dir = os.path.join(path, 'Dog Emotion')\n",
        "print(\"실제 다운로드된 경로:\", path)\n",
        "print(\"해당 경로 내 파일/폴더:\", os.listdir(path))\n",
        "\n",
        "\n"
      ]
    },
    {
      "cell_type": "markdown",
      "metadata": {
        "id": "ryn6M_zHaay5"
      },
      "source": [
        "## 2.2 테이터 로드\n"
      ]
    },
    {
      "cell_type": "code",
      "execution_count": null,
      "metadata": {
        "colab": {
          "base_uri": "https://localhost:8080/"
        },
        "id": "O3mlSDaebA8U",
        "outputId": "a5388653-7c53-4c24-9052-fb67fe0997b2"
      },
      "outputs": [
        {
          "name": "stdout",
          "output_type": "stream",
          "text": [
            "클래스 목록: ['angry', 'happy', 'relaxed', 'sad']\n"
          ]
        }
      ],
      "source": [
        "# 2. labels.csv 경로\n",
        "labels_csv_path = os.path.join(data_dir, 'labels.csv')\n",
        "labels_df = pd.read_csv(labels_csv_path)\n",
        "\n",
        "# 3. 감정 레이블 폴더 이름 불러오기\n",
        "class_names = sorted([d for d in os.listdir(data_dir) if os.path.isdir(os.path.join(data_dir, d))])\n",
        "print(f'클래스 목록: {class_names}')\n",
        "\n",
        "# 4. 레이블 매핑\n",
        "label_map = {name: idx for idx, name in enumerate(class_names)}\n",
        "\n",
        "# 5. 이미지 로딩 함수\n",
        "def load_and_preprocess_img(img_path):\n",
        "    img = cv2.imread(img_path)\n",
        "    if img is None:\n",
        "        print(f\"이미지 파일을 불러올 수 없습니다: {img_path}\")\n",
        "        return None\n",
        "    img = cv2.cvtColor(img, cv2.COLOR_BGR2RGB)\n",
        "    img = cv2.resize(img, (600, 600))\n",
        "    img = img / 255.0\n",
        "    return img\n",
        "\n",
        "# 6. 이미지 및 레이블 로딩\n",
        "images, labels = [], []\n",
        "for _, row in labels_df.iterrows():\n",
        "    img_path = os.path.join(data_dir, row['label'], row['filename'])\n",
        "    img = load_and_preprocess_img(img_path)\n",
        "    if img is not None:\n",
        "        images.append(img)\n",
        "        labels.append(label_map[row['label']])\n",
        "\n",
        "# 7. 배열 및 one-hot 인코딩\n",
        "images = np.array(images)\n",
        "labels = tf.keras.utils.to_categorical(labels, num_classes=len(class_names))\n",
        "\n",
        "# 8. 확인\n",
        "print(f'이미지 개수: {images.shape[0]}, 라벨 개수: {labels.shape[0]}')\n",
        "print(f'라벨 예시 (one-hot):\\n{labels[:5]}')"
      ]
    },
    {
      "cell_type": "markdown",
      "metadata": {
        "id": "oHzxF4C5i0gd"
      },
      "source": [
        "# 3. test, valid, train set 나누기"
      ]
    },
    {
      "cell_type": "code",
      "execution_count": 16,
      "metadata": {
        "id": "pZvNwgFOi-4X"
      },
      "outputs": [],
      "source": [
        "from sklearn.model_selection import train_test_split\n",
        "\n",
        "# 1) train+val / test 분리 (10%를 test로 분리)\n",
        "train_val_images, test_images, train_val_labels, test_labels = train_test_split(\n",
        "    images, labels, test_size=0.1, random_state=42, stratify=labels\n",
        ")\n",
        "\n",
        "# 2) train / val 분리 (train_val 중 10%를 validation으로 분리)\n",
        "train_images, val_images, train_labels, val_labels = train_test_split(\n",
        "    train_val_images, train_val_labels, test_size=0.1, random_state=42, stratify=train_val_labels\n",
        ")\n"
      ]
    },
    {
      "cell_type": "markdown",
      "metadata": {
        "id": "_sz-k63E7Y7_"
      },
      "source": [
        "# 4. 전이 학습 모델 구성 (EfficientNetB0 사용)"
      ]
    },
    {
      "cell_type": "markdown",
      "metadata": {
        "id": "-6umalnALggH"
      },
      "source": [
        "## 4.1 Feature Extracter로 사전 학습"
      ]
    },
    {
      "cell_type": "markdown",
      "metadata": {
        "id": "ivyu6pyEL7_G"
      },
      "source": [
        "이미지넷으로 이미 학습된 가중치를 그대로 활용하기 위해서 Feature Extrator를 사용합니다. EfficientNetB0은 선, 모양 색 변화 등 저 수준의 특징을 추출하는 하위층과 귀,입, 꼬리 등 물체의 일부를 감지하는 중간 층, 그리고 전체 물체와 감정등을 추론하는 상위층으로 이루어져 있습니다.Feature Extractor에서 하위, 중간층만 그대로 받아옵니다."
      ]
    },
    {
      "cell_type": "code",
      "execution_count": 18,
      "metadata": {
        "colab": {
          "base_uri": "https://localhost:8080/"
        },
        "id": "JL88ZZip5nBk",
        "outputId": "01568921-4dd8-4152-9537-52f9fe100f4c"
      },
      "outputs": [
        {
          "name": "stdout",
          "output_type": "stream",
          "text": [
            "Downloading data from https://storage.googleapis.com/keras-applications/efficientnetb7_notop.h5\n",
            "\u001b[1m258076736/258076736\u001b[0m \u001b[32m━━━━━━━━━━━━━━━━━━━━\u001b[0m\u001b[37m\u001b[0m \u001b[1m7s\u001b[0m 0us/step\n",
            "Epoch 1/15\n",
            "\u001b[1m102/102\u001b[0m \u001b[32m━━━━━━━━━━━━━━━━━━━━\u001b[0m\u001b[37m\u001b[0m \u001b[1m99s\u001b[0m 763ms/step - accuracy: 0.2509 - loss: 1.7872 - val_accuracy: 0.2500 - val_loss: 1.4247 - learning_rate: 0.0010\n",
            "Epoch 2/15\n",
            "\u001b[1m102/102\u001b[0m \u001b[32m━━━━━━━━━━━━━━━━━━━━\u001b[0m\u001b[37m\u001b[0m \u001b[1m66s\u001b[0m 645ms/step - accuracy: 0.2443 - loss: 1.6964 - val_accuracy: 0.2444 - val_loss: 1.5392 - learning_rate: 0.0010\n",
            "Epoch 3/15\n",
            "\u001b[1m102/102\u001b[0m \u001b[32m━━━━━━━━━━━━━━━━━━━━\u001b[0m\u001b[37m\u001b[0m \u001b[1m65s\u001b[0m 638ms/step - accuracy: 0.2570 - loss: 1.6073 - val_accuracy: 0.2500 - val_loss: 1.4461 - learning_rate: 0.0010\n",
            "Epoch 4/15\n",
            "\u001b[1m102/102\u001b[0m \u001b[32m━━━━━━━━━━━━━━━━━━━━\u001b[0m\u001b[37m\u001b[0m \u001b[1m65s\u001b[0m 635ms/step - accuracy: 0.2357 - loss: 1.6074 - val_accuracy: 0.2500 - val_loss: 1.5289 - learning_rate: 0.0010\n",
            "Epoch 5/15\n",
            "\u001b[1m102/102\u001b[0m \u001b[32m━━━━━━━━━━━━━━━━━━━━\u001b[0m\u001b[37m\u001b[0m \u001b[1m65s\u001b[0m 635ms/step - accuracy: 0.2566 - loss: 1.5532 - val_accuracy: 0.2500 - val_loss: 1.4181 - learning_rate: 3.0000e-04\n",
            "Epoch 6/15\n",
            "\u001b[1m102/102\u001b[0m \u001b[32m━━━━━━━━━━━━━━━━━━━━\u001b[0m\u001b[37m\u001b[0m \u001b[1m67s\u001b[0m 655ms/step - accuracy: 0.2397 - loss: 1.5525 - val_accuracy: 0.2500 - val_loss: 1.4144 - learning_rate: 3.0000e-04\n",
            "Epoch 7/15\n",
            "\u001b[1m102/102\u001b[0m \u001b[32m━━━━━━━━━━━━━━━━━━━━\u001b[0m\u001b[37m\u001b[0m \u001b[1m65s\u001b[0m 637ms/step - accuracy: 0.2437 - loss: 1.5215 - val_accuracy: 0.2500 - val_loss: 1.4482 - learning_rate: 3.0000e-04\n",
            "Epoch 8/15\n",
            "\u001b[1m102/102\u001b[0m \u001b[32m━━━━━━━━━━━━━━━━━━━━\u001b[0m\u001b[37m\u001b[0m \u001b[1m65s\u001b[0m 642ms/step - accuracy: 0.2495 - loss: 1.5232 - val_accuracy: 0.2472 - val_loss: 1.4077 - learning_rate: 3.0000e-04\n",
            "Epoch 9/15\n",
            "\u001b[1m102/102\u001b[0m \u001b[32m━━━━━━━━━━━━━━━━━━━━\u001b[0m\u001b[37m\u001b[0m \u001b[1m66s\u001b[0m 646ms/step - accuracy: 0.2433 - loss: 1.5065 - val_accuracy: 0.2528 - val_loss: 1.4110 - learning_rate: 3.0000e-04\n",
            "Epoch 10/15\n",
            "\u001b[1m102/102\u001b[0m \u001b[32m━━━━━━━━━━━━━━━━━━━━\u001b[0m\u001b[37m\u001b[0m \u001b[1m65s\u001b[0m 639ms/step - accuracy: 0.2499 - loss: 1.4870 - val_accuracy: 0.2500 - val_loss: 1.4495 - learning_rate: 3.0000e-04\n",
            "Epoch 11/15\n",
            "\u001b[1m102/102\u001b[0m \u001b[32m━━━━━━━━━━━━━━━━━━━━\u001b[0m\u001b[37m\u001b[0m \u001b[1m65s\u001b[0m 641ms/step - accuracy: 0.2474 - loss: 1.4917 - val_accuracy: 0.2389 - val_loss: 1.3980 - learning_rate: 3.0000e-04\n",
            "Epoch 12/15\n",
            "\u001b[1m102/102\u001b[0m \u001b[32m━━━━━━━━━━━━━━━━━━━━\u001b[0m\u001b[37m\u001b[0m \u001b[1m65s\u001b[0m 636ms/step - accuracy: 0.2270 - loss: 1.4999 - val_accuracy: 0.2500 - val_loss: 1.4052 - learning_rate: 3.0000e-04\n",
            "Epoch 13/15\n",
            "\u001b[1m102/102\u001b[0m \u001b[32m━━━━━━━━━━━━━━━━━━━━\u001b[0m\u001b[37m\u001b[0m \u001b[1m65s\u001b[0m 637ms/step - accuracy: 0.2260 - loss: 1.5056 - val_accuracy: 0.2500 - val_loss: 1.4021 - learning_rate: 3.0000e-04\n",
            "Epoch 14/15\n",
            "\u001b[1m102/102\u001b[0m \u001b[32m━━━━━━━━━━━━━━━━━━━━\u001b[0m\u001b[37m\u001b[0m \u001b[1m65s\u001b[0m 639ms/step - accuracy: 0.2519 - loss: 1.4769 - val_accuracy: 0.2500 - val_loss: 1.4321 - learning_rate: 3.0000e-04\n",
            "Epoch 15/15\n",
            "\u001b[1m102/102\u001b[0m \u001b[32m━━━━━━━━━━━━━━━━━━━━\u001b[0m\u001b[37m\u001b[0m \u001b[1m66s\u001b[0m 645ms/step - accuracy: 0.2476 - loss: 1.4615 - val_accuracy: 0.2583 - val_loss: 1.3935 - learning_rate: 9.0000e-05\n"
          ]
        }
      ],
      "source": [
        "from tensorflow.keras.applications import EfficientNetB7\n",
        "from tensorflow.keras.models import Model\n",
        "from tensorflow.keras.layers import Dense, GlobalAveragePooling2D, Dropout, Input\n",
        "from tensorflow.keras.callbacks import EarlyStopping, ReduceLROnPlateau\n",
        "from tensorflow.keras.regularizers import l2  # L2 정규화 임포트\n",
        "\n",
        "early_stop = EarlyStopping(monitor='val_loss', patience=5, restore_best_weights=True)\n",
        "reduce_lr = ReduceLROnPlateau(monitor='val_loss', factor=0.3, patience=3)\n",
        "\n",
        "base_model = EfficientNetB7(weights='imagenet', include_top=False, input_shape=(112, 112, 3))\n",
        "base_model.trainable = False  # 처음엔 학습하지 않음 (Feature Extractor로 사용)\n",
        "\n",
        "inputs = Input(shape=(112, 112, 3))\n",
        "x = base_model(inputs, training=False)\n",
        "x = GlobalAveragePooling2D()(x)\n",
        "x = Dropout(0.6)(x)\n",
        "outputs = Dense(len(class_names), activation='softmax', kernel_regularizer=l2(0.001))(x)\n",
        "\n",
        "model = Model(inputs, outputs)\n",
        "model.compile(optimizer='adam', loss='categorical_crossentropy', metrics=['accuracy'])\n",
        "\n",
        "# 1차 학습 (기본 모델 고정)\n",
        "hist = model.fit(\n",
        "    train_images, train_labels,\n",
        "    epochs=15,\n",
        "    validation_data=(val_images, val_labels),\n",
        "    #callbacks=[early_stop]\n",
        "    callbacks=[early_stop, reduce_lr]\n",
        ")\n"
      ]
    },
    {
      "cell_type": "markdown",
      "metadata": {
        "id": "UZfWefwn7o5S"
      },
      "source": [
        "## 4.2 상위층 학습"
      ]
    },
    {
      "cell_type": "code",
      "execution_count": 21,
      "metadata": {
        "id": "TS7rYhmY7uRx"
      },
      "outputs": [],
      "source": [
        "# base_model의 일부 층부터 학습 가능하게 설정\n",
        "base_model.trainable = True\n",
        "\n",
        "# (선택) 특정 층까지만 학습되도록 설정하고 싶을 때:\n",
        "fine_tune_at = len(base_model.layers) - 20  # 맨 끝 20개만 학습 가능하게\n",
        "for layer in base_model.layers[:fine_tune_at]:\n",
        "   layer.trainable = False\n",
        "\n",
        "# 컴파일 다시 (학습 가능한 가중치가 생겼기 때문)\n",
        "model.compile(\n",
        "    optimizer=tf.keras.optimizers.Adam(1e-4),  # 전이학습엔 낮은 학습률이 중요\n",
        "    loss='categorical_crossentropy',\n",
        "    metrics=['accuracy']\n",
        ")\n",
        "\n",
        "#2차 학습 (전이 학습)\n",
        "# hist_fine = model.fit(\n",
        "#     train_images, train_labels,\n",
        "#     epochs=20,\n",
        "#     validation_data=(val_images, val_labels),\n",
        "#         callbacks=[early_stop, reduce_lr]\n",
        "# )\n",
        "# 2차 학습 (전이 학습, 데이터 증강 포함)\n",
        "# hist_fine = model.fit(\n",
        "#     train_generator,\n",
        "#     epochs=20,\n",
        "#     validation_data=(val_images, val_labels),\n",
        "#     callbacks=[early_stop, reduce_lr],\n",
        "#     #steps_per_epoch=len(train_images) // 32\n",
        "# )\n"
      ]
    },
    {
      "cell_type": "markdown",
      "metadata": {
        "id": "zgVBy36tlyFk"
      },
      "source": [
        "# 5. 데이터 증강학습"
      ]
    },
    {
      "cell_type": "markdown",
      "metadata": {
        "id": "CfMOgN66lIyh"
      },
      "source": []
    },
    {
      "cell_type": "code",
      "execution_count": null,
      "metadata": {
        "colab": {
          "base_uri": "https://localhost:8080/"
        },
        "id": "ah1nikw-lKT7",
        "outputId": "c348721b-ee60-4da2-f5a1-7102d867dbe1"
      },
      "outputs": [
        {
          "name": "stderr",
          "output_type": "stream",
          "text": [
            "/usr/local/lib/python3.11/dist-packages/keras/src/trainers/data_adapters/py_dataset_adapter.py:121: UserWarning: Your `PyDataset` class should call `super().__init__(**kwargs)` in its constructor. `**kwargs` can include `workers`, `use_multiprocessing`, `max_queue_size`. Do not pass these arguments to `fit()`, as they will be ignored.\n",
            "  self._warn_if_super_not_called()\n"
          ]
        },
        {
          "name": "stdout",
          "output_type": "stream",
          "text": [
            "Epoch 1/20\n",
            "\u001b[1m101/101\u001b[0m \u001b[32m━━━━━━━━━━━━━━━━━━━━\u001b[0m\u001b[37m\u001b[0m \u001b[1m12s\u001b[0m 118ms/step - accuracy: 0.2389 - loss: 1.4375 - val_accuracy: 0.2500 - val_loss: 1.3924 - learning_rate: 3.0000e-05\n",
            "Epoch 2/20\n",
            "\u001b[1m  1/101\u001b[0m \u001b[37m━━━━━━━━━━━━━━━━━━━━\u001b[0m \u001b[1m2s\u001b[0m 22ms/step - accuracy: 0.2500 - loss: 1.4029"
          ]
        },
        {
          "name": "stderr",
          "output_type": "stream",
          "text": [
            "/usr/local/lib/python3.11/dist-packages/keras/src/trainers/epoch_iterator.py:107: UserWarning: Your input ran out of data; interrupting training. Make sure that your dataset or generator can generate at least `steps_per_epoch * epochs` batches. You may need to use the `.repeat()` function when building your dataset.\n",
            "  self._interrupted_warning()\n"
          ]
        },
        {
          "name": "stdout",
          "output_type": "stream",
          "text": [
            "\b\b\b\b\b\b\b\b\b\b\b\b\b\b\b\b\b\b\b\b\b\b\b\b\b\b\b\b\b\b\b\b\b\b\b\b\b\b\b\b\b\b\b\b\b\b\b\b\b\b\b\b\b\b\b\b\b\b\b\b\b\b\b\b\b\b\b\b\b\b\b\b\b\b\b\r\u001b[1m101/101\u001b[0m \u001b[32m━━━━━━━━━━━━━━━━━━━━\u001b[0m\u001b[37m\u001b[0m \u001b[1m0s\u001b[0m 2ms/step - accuracy: 0.2500 - loss: 1.4029 - val_accuracy: 0.2500 - val_loss: 1.3925 - learning_rate: 3.0000e-05\n",
            "Epoch 3/20\n",
            "\u001b[1m101/101\u001b[0m \u001b[32m━━━━━━━━━━━━━━━━━━━━\u001b[0m\u001b[37m\u001b[0m \u001b[1m12s\u001b[0m 116ms/step - accuracy: 0.2424 - loss: 1.4123 - val_accuracy: 0.2500 - val_loss: 1.3958 - learning_rate: 3.0000e-05\n",
            "Epoch 4/20\n",
            "\u001b[1m101/101\u001b[0m \u001b[32m━━━━━━━━━━━━━━━━━━━━\u001b[0m\u001b[37m\u001b[0m \u001b[1m0s\u001b[0m 5ms/step - accuracy: 0.3125 - loss: 1.4259 - val_accuracy: 0.2500 - val_loss: 1.3957 - learning_rate: 3.0000e-05\n",
            "Epoch 5/20\n",
            "\u001b[1m101/101\u001b[0m \u001b[32m━━━━━━━━━━━━━━━━━━━━\u001b[0m\u001b[37m\u001b[0m \u001b[1m19s\u001b[0m 103ms/step - accuracy: 0.2660 - loss: 1.4080 - val_accuracy: 0.2667 - val_loss: 1.3898 - learning_rate: 9.0000e-06\n",
            "Epoch 6/20\n",
            "\u001b[1m101/101\u001b[0m \u001b[32m━━━━━━━━━━━━━━━━━━━━\u001b[0m\u001b[37m\u001b[0m \u001b[1m0s\u001b[0m 5ms/step - accuracy: 0.1875 - loss: 1.4729 - val_accuracy: 0.2667 - val_loss: 1.3897 - learning_rate: 9.0000e-06\n",
            "Epoch 7/20\n",
            "\u001b[1m101/101\u001b[0m \u001b[32m━━━━━━━━━━━━━━━━━━━━\u001b[0m\u001b[37m\u001b[0m \u001b[1m21s\u001b[0m 113ms/step - accuracy: 0.2642 - loss: 1.3995 - val_accuracy: 0.2528 - val_loss: 1.3866 - learning_rate: 9.0000e-06\n",
            "Epoch 8/20\n",
            "\u001b[1m101/101\u001b[0m \u001b[32m━━━━━━━━━━━━━━━━━━━━\u001b[0m\u001b[37m\u001b[0m \u001b[1m0s\u001b[0m 2ms/step - accuracy: 0.4375 - loss: 1.3534 - val_accuracy: 0.2528 - val_loss: 1.3866 - learning_rate: 9.0000e-06\n",
            "Epoch 9/20\n",
            "\u001b[1m101/101\u001b[0m \u001b[32m━━━━━━━━━━━━━━━━━━━━\u001b[0m\u001b[37m\u001b[0m \u001b[1m11s\u001b[0m 112ms/step - accuracy: 0.2583 - loss: 1.4092 - val_accuracy: 0.2639 - val_loss: 1.3863 - learning_rate: 9.0000e-06\n",
            "Epoch 10/20\n",
            "\u001b[1m101/101\u001b[0m \u001b[32m━━━━━━━━━━━━━━━━━━━━\u001b[0m\u001b[37m\u001b[0m \u001b[1m0s\u001b[0m 5ms/step - accuracy: 0.4375 - loss: 1.3399 - val_accuracy: 0.2722 - val_loss: 1.3863 - learning_rate: 9.0000e-06\n",
            "Epoch 11/20\n",
            "\u001b[1m101/101\u001b[0m \u001b[32m━━━━━━━━━━━━━━━━━━━━\u001b[0m\u001b[37m\u001b[0m \u001b[1m12s\u001b[0m 114ms/step - accuracy: 0.2540 - loss: 1.4035 - val_accuracy: 0.2639 - val_loss: 1.3851 - learning_rate: 9.0000e-06\n",
            "Epoch 12/20\n",
            "\u001b[1m101/101\u001b[0m \u001b[32m━━━━━━━━━━━━━━━━━━━━\u001b[0m\u001b[37m\u001b[0m \u001b[1m0s\u001b[0m 3ms/step - accuracy: 0.2812 - loss: 1.4063 - val_accuracy: 0.2667 - val_loss: 1.3851 - learning_rate: 9.0000e-06\n",
            "Epoch 13/20\n",
            "\u001b[1m101/101\u001b[0m \u001b[32m━━━━━━━━━━━━━━━━━━━━\u001b[0m\u001b[37m\u001b[0m \u001b[1m20s\u001b[0m 112ms/step - accuracy: 0.2507 - loss: 1.4102 - val_accuracy: 0.2667 - val_loss: 1.3852 - learning_rate: 9.0000e-06\n",
            "Epoch 14/20\n",
            "\u001b[1m101/101\u001b[0m \u001b[32m━━━━━━━━━━━━━━━━━━━━\u001b[0m\u001b[37m\u001b[0m \u001b[1m0s\u001b[0m 2ms/step - accuracy: 0.1875 - loss: 1.4613 - val_accuracy: 0.2694 - val_loss: 1.3852 - learning_rate: 9.0000e-06\n",
            "Epoch 15/20\n",
            "\u001b[1m101/101\u001b[0m \u001b[32m━━━━━━━━━━━━━━━━━━━━\u001b[0m\u001b[37m\u001b[0m \u001b[1m20s\u001b[0m 106ms/step - accuracy: 0.2378 - loss: 1.4107 - val_accuracy: 0.2667 - val_loss: 1.3851 - learning_rate: 2.7000e-06\n",
            "Epoch 16/20\n",
            "\u001b[1m101/101\u001b[0m \u001b[32m━━━━━━━━━━━━━━━━━━━━\u001b[0m\u001b[37m\u001b[0m \u001b[1m0s\u001b[0m 3ms/step - accuracy: 0.3438 - loss: 1.3466 - val_accuracy: 0.2667 - val_loss: 1.3851 - learning_rate: 2.7000e-06\n",
            "Epoch 17/20\n",
            "\u001b[1m101/101\u001b[0m \u001b[32m━━━━━━━━━━━━━━━━━━━━\u001b[0m\u001b[37m\u001b[0m \u001b[1m11s\u001b[0m 104ms/step - accuracy: 0.2300 - loss: 1.4074 - val_accuracy: 0.2722 - val_loss: 1.3854 - learning_rate: 2.7000e-06\n"
          ]
        }
      ],
      "source": [
        "from tensorflow.keras.preprocessing.image import ImageDataGenerator\n",
        "\n",
        "# 데이터 증강 설정\n",
        "datagen = ImageDataGenerator(\n",
        "    rotation_range=20,          # 회전 범위\n",
        "    width_shift_range=0.1,      # 가로 이동\n",
        "    height_shift_range=0.1,     # 세로 이동\n",
        "    shear_range=0.15,            # 전단 변형\n",
        "    zoom_range=0.2,             # 확대/축소\n",
        "    horizontal_flip=True,       # 좌우 반전\n",
        "    fill_mode='nearest'         # 빈 픽셀 채우는 방식\n",
        ")\n",
        "\n",
        "# 증강된 데이터로 학습\n",
        "train_generator = datagen.flow(train_images, train_labels, batch_size=32)\n",
        "\n",
        "# 모델 학습 (fit 대신 fit_generator 사용)\n",
        "hist_fine = model.fit(\n",
        "    train_generator,\n",
        "    epochs=20,\n",
        "    validation_data=(val_images, val_labels),\n",
        "    #callbacks=[early_stop],\n",
        "    callbacks=[early_stop, reduce_lr],\n",
        "    steps_per_epoch=len(train_images) // 32\n",
        ")\n",
        "\n"
      ]
    },
    {
      "cell_type": "code",
      "execution_count": null,
      "metadata": {
        "id": "kMjlRYRblLVN"
      },
      "outputs": [],
      "source": []
    },
    {
      "cell_type": "markdown",
      "metadata": {
        "id": "nHFgXlvllIxv"
      },
      "source": []
    },
    {
      "cell_type": "markdown",
      "metadata": {
        "id": "ZhW3Llkrn7K4"
      },
      "source": []
    },
    {
      "cell_type": "markdown",
      "metadata": {
        "id": "p9ZG3SeclLhp"
      },
      "source": [
        "# 6.테스트셋 평가"
      ]
    },
    {
      "cell_type": "markdown",
      "metadata": {
        "id": "wagcRjXWlbEx"
      },
      "source": [
        "## 6.1 테스트셋 평가"
      ]
    },
    {
      "cell_type": "code",
      "execution_count": 22,
      "metadata": {
        "colab": {
          "base_uri": "https://localhost:8080/"
        },
        "id": "kxJW92MemjgX",
        "outputId": "1c02bcfd-d68a-43e9-a2d0-e6bc17bf440a"
      },
      "outputs": [
        {
          "name": "stdout",
          "output_type": "stream",
          "text": [
            "\u001b[1m13/13\u001b[0m \u001b[32m━━━━━━━━━━━━━━━━━━━━\u001b[0m\u001b[37m\u001b[0m \u001b[1m17s\u001b[0m 573ms/step - accuracy: 0.2831 - loss: 1.3916\n",
            "Test Accuracy: 0.2800, Test Loss: 1.3925\n"
          ]
        }
      ],
      "source": [
        "test_loss, test_acc = model.evaluate(test_images, test_labels)\n",
        "print(f\"Test Accuracy: {test_acc:.4f}, Test Loss: {test_loss:.4f}\")"
      ]
    },
    {
      "cell_type": "markdown",
      "metadata": {
        "id": "u3BOdYQbml_Z"
      },
      "source": [
        "Keras 방식의 테스트 정확도 계산"
      ]
    },
    {
      "cell_type": "code",
      "execution_count": 23,
      "metadata": {
        "colab": {
          "base_uri": "https://localhost:8080/"
        },
        "id": "VKl1qyX7W-2-",
        "outputId": "ee71dd99-d76b-4a92-c8fc-236b6bd39b0f"
      },
      "outputs": [
        {
          "name": "stdout",
          "output_type": "stream",
          "text": [
            "실행 시작: 2025-05-31 19:16:13\n",
            "테스트 정확도: 0.2800\n",
            "실행 종료: 2025-05-31 19:16:21\n",
            "총 실행 시간: 7.89초\n"
          ]
        }
      ],
      "source": [
        "import time\n",
        "from datetime import datetime\n",
        "\n",
        "start_time = time.time()\n",
        "start_dt = datetime.now().strftime(\"%Y-%m-%d %H:%M:%S\")\n",
        "print(f\"실행 시작: {start_dt}\")\n",
        "\n",
        "# 평가\n",
        "test_loss, test_acc = model.evaluate(test_images, test_labels, verbose=0)\n",
        "print(f\"테스트 정확도: {test_acc:.4f}\")\n",
        "\n",
        "end_time = time.time()\n",
        "end_dt = datetime.now().strftime(\"%Y-%m-%d %H:%M:%S\")\n",
        "print(f\"실행 종료: {end_dt}\")\n",
        "print(f\"총 실행 시간: {end_time - start_time:.2f}초\")\n",
        "\n",
        "\n"
      ]
    },
    {
      "cell_type": "markdown",
      "metadata": {
        "id": "74Nu1y7sld6X"
      },
      "source": [
        "## 6.2 모델저장"
      ]
    },
    {
      "cell_type": "markdown",
      "metadata": {
        "id": "S1yerXPApXEG"
      },
      "source": [
        "자신의 드라이브에 저장되는 것이므로 파일 저장후 공용드라이브로 옮겨주어야 합니다."
      ]
    },
    {
      "cell_type": "code",
      "execution_count": 44,
      "metadata": {
        "colab": {
          "base_uri": "https://localhost:8080/"
        },
        "id": "bBCuQy6nlgFN",
        "outputId": "270f0eec-7e75-475f-b4a0-2759c07bfb97"
      },
      "outputs": [
        {
          "name": "stderr",
          "output_type": "stream",
          "text": [
            "WARNING:absl:You are saving your model as an HDF5 file via `model.save()` or `keras.saving.save_model(model)`. This file format is considered legacy. We recommend using instead the native Keras format, e.g. `model.save('my_model.keras')` or `keras.saving.save_model(model, 'my_model.keras')`. \n"
          ]
        },
        {
          "name": "stdout",
          "output_type": "stream",
          "text": [
            "실행 시작: 2025-05-31 19:24:36\n",
            "✅ .keras 형식으로 저장됨: ./models\\puppySenseModel_2025-05-31.keras\n",
            "✅ .h5 형식으로 저장됨: ./models\\puppySenseModel_2025-05-31.h5\n",
            "실행 종료: 2025-05-31 19:24:36\n",
            "총 실행 시간: 0.03초\n"
          ]
        }
      ],
      "source": [
        "import os\n",
        "import time\n",
        "from datetime import datetime\n",
        "import tensorflow as tf\n",
        "\n",
        "# 실행 시간 측정 시작\n",
        "start_time = time.time()\n",
        "start_dt = datetime.now().strftime(\"%Y-%m-%d %H:%M:%S\")\n",
        "print(f\"실행 시작: {start_dt}\")\n",
        "\n",
        "# 저장 디렉토리 설정\n",
        "model_dir = \"./models\"\n",
        "\n",
        "# 🔧 파일로 존재하는 경우 삭제\n",
        "if os.path.exists(model_dir) and not os.path.isdir(model_dir):\n",
        "    os.remove(model_dir)\n",
        "\n",
        "# 디렉토리 생성\n",
        "os.makedirs(model_dir, exist_ok=True)\n",
        "\n",
        "# 오늘 날짜\n",
        "today_str = datetime.now().strftime(\"%Y-%m-%d\")\n",
        "\n",
        "# 저장 경로들\n",
        "keras_path = os.path.join(model_dir, f\"puppySenseModel_{today_str}.keras\")\n",
        "h5_path = os.path.join(model_dir, f\"puppySenseModel_{today_str}.h5\")\n",
        "\n",
        "# ✅ 간단한 모델 정의\n",
        "model = tf.keras.Sequential([\n",
        "    tf.keras.Input(shape=(10,)),\n",
        "    tf.keras.layers.Dense(64, activation='relu'),\n",
        "    tf.keras.layers.Dense(1)\n",
        "])\n",
        "model.compile(optimizer='adam', loss='mse')\n",
        "\n",
        "# ✅ .keras 형식 저장\n",
        "model.save(keras_path)\n",
        "print(f\"✅ .keras 형식으로 저장됨: {keras_path}\")\n",
        "\n",
        "# ✅ .h5 형식 저장\n",
        "model.save(h5_path)\n",
        "print(f\"✅ .h5 형식으로 저장됨: {h5_path}\")\n",
        "\n",
        "\n",
        "\n",
        "# 실행 시간 측정 종료\n",
        "end_time = time.time()\n",
        "end_dt = datetime.now().strftime(\"%Y-%m-%d %H:%M:%S\")\n",
        "print(f\"실행 종료: {end_dt}\")\n",
        "print(f\"총 실행 시간: {end_time - start_time:.2f}초\")\n"
      ]
    },
    {
      "cell_type": "markdown",
      "metadata": {
        "id": "pa0mNh9AlqOt"
      },
      "source": [
        "## 6.3 시각화"
      ]
    },
    {
      "cell_type": "code",
      "execution_count": 49,
      "metadata": {
        "colab": {
          "base_uri": "https://localhost:8080/",
          "height": 583
        },
        "id": "xxRc464CmwMY",
        "outputId": "ea2b1ad7-1d47-497f-cd95-66c1938fc021"
      },
      "outputs": [
        {
          "ename": "ValueError",
          "evalue": "File format not supported: filepath=./models. Keras 3 only supports V3 `.keras` files and legacy H5 format files (`.h5` extension). Note that the legacy SavedModel format is not supported by `load_model()` in Keras 3. In order to reload a TensorFlow SavedModel as an inference-only layer in Keras 3, use `keras.layers.TFSMLayer(./models, call_endpoint='serving_default')` (note that your `call_endpoint` might have a different name).",
          "output_type": "error",
          "traceback": [
            "\u001b[31m---------------------------------------------------------------------------\u001b[39m",
            "\u001b[31mValueError\u001b[39m                                Traceback (most recent call last)",
            "\u001b[36mCell\u001b[39m\u001b[36m \u001b[39m\u001b[32mIn[49]\u001b[39m\u001b[32m, line 9\u001b[39m\n\u001b[32m      6\u001b[39m class_names = [\u001b[33m'\u001b[39m\u001b[33mangry\u001b[39m\u001b[33m'\u001b[39m, \u001b[33m'\u001b[39m\u001b[33mhappy\u001b[39m\u001b[33m'\u001b[39m, \u001b[33m'\u001b[39m\u001b[33mrelaxed\u001b[39m\u001b[33m'\u001b[39m, \u001b[33m'\u001b[39m\u001b[33msad\u001b[39m\u001b[33m'\u001b[39m]\n\u001b[32m      8\u001b[39m \u001b[38;5;66;03m# 1. 모델 로드\u001b[39;00m\n\u001b[32m----> \u001b[39m\u001b[32m9\u001b[39m model = \u001b[43mtf\u001b[49m\u001b[43m.\u001b[49m\u001b[43mkeras\u001b[49m\u001b[43m.\u001b[49m\u001b[43mmodels\u001b[49m\u001b[43m.\u001b[49m\u001b[43mload_model\u001b[49m\u001b[43m(\u001b[49m\u001b[33;43m'\u001b[39;49m\u001b[33;43m./models\u001b[39;49m\u001b[33;43m'\u001b[39;49m\u001b[43m)\u001b[49m\n\u001b[32m     11\u001b[39m \u001b[38;5;66;03m# 2. 데이터셋 로딩 (예시)\u001b[39;00m\n\u001b[32m     12\u001b[39m test_dataset = tf.keras.preprocessing.image_dataset_from_directory(\n\u001b[32m     13\u001b[39m     \u001b[33m'\u001b[39m\u001b[33mtest_path/\u001b[39m\u001b[33m'\u001b[39m,\n\u001b[32m     14\u001b[39m     image_size=(\u001b[32m112\u001b[39m, \u001b[32m112\u001b[39m),\n\u001b[32m     15\u001b[39m     batch_size=\u001b[32m32\u001b[39m\n\u001b[32m     16\u001b[39m )\n",
            "\u001b[36mFile \u001b[39m\u001b[32mc:\\Users\\oculo\\Desktop\\test\\artificialin\\.conda\\Lib\\site-packages\\keras\\src\\saving\\saving_api.py:206\u001b[39m, in \u001b[36mload_model\u001b[39m\u001b[34m(filepath, custom_objects, compile, safe_mode)\u001b[39m\n\u001b[32m    200\u001b[39m     \u001b[38;5;28;01mraise\u001b[39;00m \u001b[38;5;167;01mValueError\u001b[39;00m(\n\u001b[32m    201\u001b[39m         \u001b[33mf\u001b[39m\u001b[33m\"\u001b[39m\u001b[33mFile not found: filepath=\u001b[39m\u001b[38;5;132;01m{\u001b[39;00mfilepath\u001b[38;5;132;01m}\u001b[39;00m\u001b[33m. \u001b[39m\u001b[33m\"\u001b[39m\n\u001b[32m    202\u001b[39m         \u001b[33m\"\u001b[39m\u001b[33mPlease ensure the file is an accessible `.keras` \u001b[39m\u001b[33m\"\u001b[39m\n\u001b[32m    203\u001b[39m         \u001b[33m\"\u001b[39m\u001b[33mzip file.\u001b[39m\u001b[33m\"\u001b[39m\n\u001b[32m    204\u001b[39m     )\n\u001b[32m    205\u001b[39m \u001b[38;5;28;01melse\u001b[39;00m:\n\u001b[32m--> \u001b[39m\u001b[32m206\u001b[39m     \u001b[38;5;28;01mraise\u001b[39;00m \u001b[38;5;167;01mValueError\u001b[39;00m(\n\u001b[32m    207\u001b[39m         \u001b[33mf\u001b[39m\u001b[33m\"\u001b[39m\u001b[33mFile format not supported: filepath=\u001b[39m\u001b[38;5;132;01m{\u001b[39;00mfilepath\u001b[38;5;132;01m}\u001b[39;00m\u001b[33m. \u001b[39m\u001b[33m\"\u001b[39m\n\u001b[32m    208\u001b[39m         \u001b[33m\"\u001b[39m\u001b[33mKeras 3 only supports V3 `.keras` files and \u001b[39m\u001b[33m\"\u001b[39m\n\u001b[32m    209\u001b[39m         \u001b[33m\"\u001b[39m\u001b[33mlegacy H5 format files (`.h5` extension). \u001b[39m\u001b[33m\"\u001b[39m\n\u001b[32m    210\u001b[39m         \u001b[33m\"\u001b[39m\u001b[33mNote that the legacy SavedModel format is not \u001b[39m\u001b[33m\"\u001b[39m\n\u001b[32m    211\u001b[39m         \u001b[33m\"\u001b[39m\u001b[33msupported by `load_model()` in Keras 3. In \u001b[39m\u001b[33m\"\u001b[39m\n\u001b[32m    212\u001b[39m         \u001b[33m\"\u001b[39m\u001b[33morder to reload a TensorFlow SavedModel as an \u001b[39m\u001b[33m\"\u001b[39m\n\u001b[32m    213\u001b[39m         \u001b[33m\"\u001b[39m\u001b[33minference-only layer in Keras 3, use \u001b[39m\u001b[33m\"\u001b[39m\n\u001b[32m    214\u001b[39m         \u001b[33m\"\u001b[39m\u001b[33m`keras.layers.TFSMLayer(\u001b[39m\u001b[33m\"\u001b[39m\n\u001b[32m    215\u001b[39m         \u001b[33mf\u001b[39m\u001b[33m\"\u001b[39m\u001b[38;5;132;01m{\u001b[39;00mfilepath\u001b[38;5;132;01m}\u001b[39;00m\u001b[33m, call_endpoint=\u001b[39m\u001b[33m'\u001b[39m\u001b[33mserving_default\u001b[39m\u001b[33m'\u001b[39m\u001b[33m)` \u001b[39m\u001b[33m\"\u001b[39m\n\u001b[32m    216\u001b[39m         \u001b[33m\"\u001b[39m\u001b[33m(note that your `call_endpoint` \u001b[39m\u001b[33m\"\u001b[39m\n\u001b[32m    217\u001b[39m         \u001b[33m\"\u001b[39m\u001b[33mmight have a different name).\u001b[39m\u001b[33m\"\u001b[39m\n\u001b[32m    218\u001b[39m     )\n",
            "\u001b[31mValueError\u001b[39m: File format not supported: filepath=./models. Keras 3 only supports V3 `.keras` files and legacy H5 format files (`.h5` extension). Note that the legacy SavedModel format is not supported by `load_model()` in Keras 3. In order to reload a TensorFlow SavedModel as an inference-only layer in Keras 3, use `keras.layers.TFSMLayer(./models, call_endpoint='serving_default')` (note that your `call_endpoint` might have a different name)."
          ]
        }
      ],
      "source": [
        "import tensorflow as tf\n",
        "import numpy as np\n",
        "import matplotlib.pyplot as plt\n",
        "\n",
        "# 클래스 이름\n",
        "class_names = ['angry', 'happy', 'relaxed', 'sad']\n",
        "\n",
        "# 1. 모델 로드\n",
        "model = tf.keras.models.load_model('./models')\n",
        "\n",
        "# 2. 데이터셋 로딩 (예시)\n",
        "test_dataset = tf.keras.preprocessing.image_dataset_from_directory(\n",
        "    'test_path/',\n",
        "    image_size=(112, 112),\n",
        "    batch_size=32\n",
        ")\n",
        "\n",
        "# 3. 전체 이미지, 라벨을 numpy 배열로 변환\n",
        "test_images = []\n",
        "test_labels = []\n",
        "for images, labels in test_dataset:\n",
        "    test_images.append(images.numpy())\n",
        "    test_labels.append(labels.numpy())\n",
        "\n",
        "test_images = np.concatenate(test_images, axis=0)\n",
        "test_labels = np.concatenate(test_labels, axis=0)\n",
        "\n",
        "# One-hot encoding 된 라벨인 경우\n",
        "if test_labels.ndim == 2 and test_labels.shape[1] > 1:\n",
        "    y_true_class = np.argmax(test_labels, axis=1)\n",
        "else:\n",
        "    y_true_class = test_labels  # 정수형 라벨\n",
        "\n",
        "# 4. 예측\n",
        "y_pred = model.predict(test_images)\n",
        "y_pred_class = np.argmax(y_pred, axis=1)\n",
        "\n",
        "# 5. 시각화\n",
        "fig = plt.figure(figsize=(15, 10))\n",
        "for j in range(10):\n",
        "    ax = fig.add_subplot(2, 5, j + 1)\n",
        "    ax.set_xticks([])\n",
        "    ax.set_yticks([])\n",
        "    ax.imshow(test_images[j].astype(\"uint8\"))  # 정규화 해제 필요시 수정\n",
        "\n",
        "    true_label = class_names[y_true_class[j]]\n",
        "\n",
        "    prob_text = \"\\n\".join([\n",
        "        f\"{class_names[i]}: {y_pred[j][i]*100:.1f}%\" for i in range(len(class_names))\n",
        "    ])\n",
        "\n",
        "    ax.text(\n",
        "        0.5, -0.25,\n",
        "        f\"GT: {true_label}\\n{prob_text}\",\n",
        "        size=12,\n",
        "        ha='center',\n",
        "        va='center',\n",
        "        transform=ax.transAxes\n",
        "    )\n",
        "\n",
        "plt.tight_layout()\n",
        "plt.show()\n",
        "\n"
      ]
    },
    {
      "cell_type": "code",
      "execution_count": 48,
      "metadata": {
        "colab": {
          "base_uri": "https://localhost:8080/",
          "height": 795
        },
        "id": "-InunoyBp2Ul",
        "outputId": "589394ce-ae39-4c0e-d043-7775e53b4e9e"
      },
      "outputs": [
        {
          "ename": "NameError",
          "evalue": "name 'hist_fine' is not defined",
          "output_type": "error",
          "traceback": [
            "\u001b[31m---------------------------------------------------------------------------\u001b[39m",
            "\u001b[31mNameError\u001b[39m                                 Traceback (most recent call last)",
            "\u001b[36mCell\u001b[39m\u001b[36m \u001b[39m\u001b[32mIn[48]\u001b[39m\u001b[32m, line 4\u001b[39m\n\u001b[32m      1\u001b[39m \u001b[38;5;66;03m# 두 히스토리 합치기 (간단히 리스트 이어붙이기)\u001b[39;00m\n\u001b[32m      2\u001b[39m \u001b[38;5;66;03m# for key in hist_fine.history.keys():\u001b[39;00m\n\u001b[32m      3\u001b[39m \u001b[38;5;66;03m#     hist.history[key].extend(hist_fine.history[key])\u001b[39;00m\n\u001b[32m----> \u001b[39m\u001b[32m4\u001b[39m common_keys = \u001b[38;5;28mset\u001b[39m(hist.history.keys()).intersection(\u001b[43mhist_fine\u001b[49m.history.keys())\n\u001b[32m      5\u001b[39m \u001b[38;5;28;01mfor\u001b[39;00m key \u001b[38;5;129;01min\u001b[39;00m common_keys:\n\u001b[32m      6\u001b[39m     hist.history[key].extend(hist_fine.history[key])\n",
            "\u001b[31mNameError\u001b[39m: name 'hist_fine' is not defined"
          ]
        }
      ],
      "source": [
        "# 두 히스토리 합치기 (간단히 리스트 이어붙이기)\n",
        "# for key in hist_fine.history.keys():\n",
        "#     hist.history[key].extend(hist_fine.history[key])\n",
        "common_keys = set(hist.history.keys()).intersection(hist_fine.history.keys())\n",
        "for key in common_keys:\n",
        "    hist.history[key].extend(hist_fine.history[key])\n",
        "\n",
        "# 이제 hist.history에 10 epoch의 기록이 모두 들어있음\n",
        "\n",
        "# 에포크 수 및 히스토리 정보\n",
        "epochs = len(hist.history['loss'])  # epochs 수를 자동으로 가져옵니다\n",
        "train_loss = hist.history['loss']\n",
        "val_loss = hist.history['val_loss']\n",
        "train_acc = hist.history['accuracy']\n",
        "val_acc = hist.history['val_accuracy']\n",
        "xc = range(epochs)\n",
        "\n",
        "# 손실 그래프\n",
        "plt.figure(1, figsize=(7, 5))\n",
        "plt.plot(xc, train_loss, label='train')\n",
        "plt.plot(xc, val_loss, label='val')\n",
        "plt.xlabel('Epoch')\n",
        "plt.ylabel('Loss')\n",
        "plt.title('Training vs Validation Loss')\n",
        "plt.grid(True)\n",
        "plt.legend()\n",
        "plt.style.use(['classic'])\n",
        "\n",
        "# 정확도 그래프\n",
        "plt.figure(2, figsize=(7, 5))\n",
        "plt.plot(xc, train_acc, label='train')\n",
        "plt.plot(xc, val_acc, label='val')\n",
        "plt.xlabel('Epoch')\n",
        "plt.ylabel('Accuracy')\n",
        "plt.title('Training vs Validation Accuracy')\n",
        "plt.grid(True)\n",
        "plt.legend(loc='lower right')\n",
        "plt.style.use(['classic'])\n",
        "\n",
        "plt.show()\n"
      ]
    },
    {
      "cell_type": "code",
      "execution_count": null,
      "metadata": {
        "colab": {
          "base_uri": "https://localhost:8080/",
          "height": 816
        },
        "id": "s5OkvRWnlsL_",
        "outputId": "6d3b9435-e8a7-49df-8499-632197922caf"
      },
      "outputs": [
        {
          "name": "stdout",
          "output_type": "stream",
          "text": [
            "\u001b[1m13/13\u001b[0m \u001b[32m━━━━━━━━━━━━━━━━━━━━\u001b[0m\u001b[37m\u001b[0m \u001b[1m0s\u001b[0m 18ms/step\n",
            "              precision    recall  f1-score   support\n",
            "\n",
            "       angry       0.24      0.06      0.10       100\n",
            "       happy       0.27      0.22      0.24       100\n",
            "     relaxed       0.25      0.74      0.38       100\n",
            "         sad       0.67      0.02      0.04       100\n",
            "\n",
            "    accuracy                           0.26       400\n",
            "   macro avg       0.36      0.26      0.19       400\n",
            "weighted avg       0.36      0.26      0.19       400\n",
            "\n"
          ]
        },
        {
          "data": {
            "image/png": "[encoded data removed]",
            "text/plain": [
              "<Figure size 800x640 with 2 Axes>"
            ]
          },
          "metadata": {},
          "output_type": "display_data"
        }
      ],
      "source": [
        "from sklearn.metrics import classification_report, confusion_matrix\n",
        "import numpy as np\n",
        "\n",
        "y_pred = model.predict(test_images)\n",
        "y_pred_labels = np.argmax(y_pred, axis=1)\n",
        "y_true_labels = np.argmax(test_labels, axis=1)\n",
        "\n",
        "print(classification_report(y_true_labels, y_pred_labels, target_names=class_names))\n",
        "\n",
        "# 혼동 행렬 시각화\n",
        "import seaborn as sns\n",
        "import matplotlib.pyplot as plt\n",
        "\n",
        "cm = confusion_matrix(y_true_labels, y_pred_labels)\n",
        "plt.figure(figsize=(10, 8))\n",
        "sns.heatmap(cm, annot=True, fmt='d', xticklabels=class_names, yticklabels=class_names, cmap='Blues')\n",
        "plt.xlabel('Predicted')\n",
        "plt.ylabel('True')\n",
        "plt.title('Confusion Matrix')\n",
        "plt.show()\n"
      ]
    },
    {
      "cell_type": "markdown",
      "metadata": {
        "id": "MuY04qYjlqN2"
      },
      "source": []
    }
  ],
  "metadata": {
    "accelerator": "GPU",
    "colab": {
      "gpuType": "T4",
      "provenance": []
    },
    "kernelspec": {
      "display_name": "Python 3",
      "name": "python3"
    },
    "language_info": {
      "codemirror_mode": {
        "name": "ipython",
        "version": 3
      },
      "file_extension": ".py",
      "mimetype": "text/x-python",
      "name": "python",
      "nbconvert_exporter": "python",
      "pygments_lexer": "ipython3",
      "version": "3.11.11"
    }
  },
  "nbformat": 4,
  "nbformat_minor": 0
}
