{
  "cells": [
    {
      "cell_type": "markdown",
      "metadata": {
        "id": "14ncW2slHZx0"
      },
      "source": [
        "# PuppySense\n",
        "\n",
        "인공지능응용 프로젝트\n",
        "\n",
        "모델학습 (colab 환경설정, 전이 학습 설정 진행)\n",
        "\n",
        "\n",
        "\n",
        "\n"
      ]
    },
    {
      "cell_type": "markdown",
      "metadata": {
        "id": "srtlgyO67R6l"
      },
      "source": [
        "## 1. Colab 환경설정 (GPU + 라이브러리 설치)"
      ]
    },
    {
      "cell_type": "code",
      "execution_count": 1,
      "metadata": {
        "colab": {
          "base_uri": "https://localhost:8080/"
        },
        "id": "RL17skCZG1Le",
        "outputId": "82789946-8d1c-4811-db2c-7a81cfc0a6f7"
      },
      "outputs": [
        {
          "name": "stdout",
          "output_type": "stream",
          "text": [
            "Requirement already satisfied: tensorflow in c:\\users\\oculo\\desktop\\test\\artificialin\\.conda\\lib\\site-packages (2.19.0)\n",
            "Requirement already satisfied: opencv-python in c:\\users\\oculo\\desktop\\test\\artificialin\\.conda\\lib\\site-packages (4.11.0.86)\n",
            "Requirement already satisfied: matplotlib in c:\\users\\oculo\\desktop\\test\\artificialin\\.conda\\lib\\site-packages (3.10.3)\n",
            "Requirement already satisfied: absl-py>=1.0.0 in c:\\users\\oculo\\desktop\\test\\artificialin\\.conda\\lib\\site-packages (from tensorflow) (2.3.0)\n",
            "Requirement already satisfied: astunparse>=1.6.0 in c:\\users\\oculo\\desktop\\test\\artificialin\\.conda\\lib\\site-packages (from tensorflow) (1.6.3)\n",
            "Requirement already satisfied: flatbuffers>=24.3.25 in c:\\users\\oculo\\desktop\\test\\artificialin\\.conda\\lib\\site-packages (from tensorflow) (25.2.10)\n",
            "Requirement already satisfied: gast!=0.5.0,!=0.5.1,!=0.5.2,>=0.2.1 in c:\\users\\oculo\\desktop\\test\\artificialin\\.conda\\lib\\site-packages (from tensorflow) (0.6.0)\n",
            "Requirement already satisfied: google-pasta>=0.1.1 in c:\\users\\oculo\\desktop\\test\\artificialin\\.conda\\lib\\site-packages (from tensorflow) (0.2.0)\n",
            "Requirement already satisfied: libclang>=13.0.0 in c:\\users\\oculo\\desktop\\test\\artificialin\\.conda\\lib\\site-packages (from tensorflow) (18.1.1)\n",
            "Requirement already satisfied: opt-einsum>=2.3.2 in c:\\users\\oculo\\desktop\\test\\artificialin\\.conda\\lib\\site-packages (from tensorflow) (3.4.0)\n",
            "Requirement already satisfied: packaging in c:\\users\\oculo\\desktop\\test\\artificialin\\.conda\\lib\\site-packages (from tensorflow) (25.0)\n",
            "Requirement already satisfied: protobuf!=4.21.0,!=4.21.1,!=4.21.2,!=4.21.3,!=4.21.4,!=4.21.5,<6.0.0dev,>=3.20.3 in c:\\users\\oculo\\desktop\\test\\artificialin\\.conda\\lib\\site-packages (from tensorflow) (5.29.5)\n",
            "Requirement already satisfied: requests<3,>=2.21.0 in c:\\users\\oculo\\desktop\\test\\artificialin\\.conda\\lib\\site-packages (from tensorflow) (2.32.3)\n",
            "Requirement already satisfied: setuptools in c:\\users\\oculo\\desktop\\test\\artificialin\\.conda\\lib\\site-packages (from tensorflow) (75.8.0)\n",
            "Requirement already satisfied: six>=1.12.0 in c:\\users\\oculo\\desktop\\test\\artificialin\\.conda\\lib\\site-packages (from tensorflow) (1.17.0)\n",
            "Requirement already satisfied: termcolor>=1.1.0 in c:\\users\\oculo\\desktop\\test\\artificialin\\.conda\\lib\\site-packages (from tensorflow) (3.1.0)\n",
            "Requirement already satisfied: typing-extensions>=3.6.6 in c:\\users\\oculo\\desktop\\test\\artificialin\\.conda\\lib\\site-packages (from tensorflow) (4.13.2)\n",
            "Requirement already satisfied: wrapt>=1.11.0 in c:\\users\\oculo\\desktop\\test\\artificialin\\.conda\\lib\\site-packages (from tensorflow) (1.17.2)\n",
            "Requirement already satisfied: grpcio<2.0,>=1.24.3 in c:\\users\\oculo\\desktop\\test\\artificialin\\.conda\\lib\\site-packages (from tensorflow) (1.71.0)\n",
            "Requirement already satisfied: tensorboard~=2.19.0 in c:\\users\\oculo\\desktop\\test\\artificialin\\.conda\\lib\\site-packages (from tensorflow) (2.19.0)\n",
            "Requirement already satisfied: keras>=3.5.0 in c:\\users\\oculo\\desktop\\test\\artificialin\\.conda\\lib\\site-packages (from tensorflow) (3.10.0)\n",
            "Requirement already satisfied: numpy<2.2.0,>=1.26.0 in c:\\users\\oculo\\desktop\\test\\artificialin\\.conda\\lib\\site-packages (from tensorflow) (2.1.3)\n",
            "Requirement already satisfied: h5py>=3.11.0 in c:\\users\\oculo\\desktop\\test\\artificialin\\.conda\\lib\\site-packages (from tensorflow) (3.13.0)\n",
            "Requirement already satisfied: ml-dtypes<1.0.0,>=0.5.1 in c:\\users\\oculo\\desktop\\test\\artificialin\\.conda\\lib\\site-packages (from tensorflow) (0.5.1)\n",
            "Requirement already satisfied: tensorflow-io-gcs-filesystem>=0.23.1 in c:\\users\\oculo\\desktop\\test\\artificialin\\.conda\\lib\\site-packages (from tensorflow) (0.31.0)\n",
            "Requirement already satisfied: contourpy>=1.0.1 in c:\\users\\oculo\\desktop\\test\\artificialin\\.conda\\lib\\site-packages (from matplotlib) (1.3.2)\n",
            "Requirement already satisfied: cycler>=0.10 in c:\\users\\oculo\\desktop\\test\\artificialin\\.conda\\lib\\site-packages (from matplotlib) (0.12.1)\n",
            "Requirement already satisfied: fonttools>=4.22.0 in c:\\users\\oculo\\desktop\\test\\artificialin\\.conda\\lib\\site-packages (from matplotlib) (4.58.1)\n",
            "Requirement already satisfied: kiwisolver>=1.3.1 in c:\\users\\oculo\\desktop\\test\\artificialin\\.conda\\lib\\site-packages (from matplotlib) (1.4.8)\n",
            "Requirement already satisfied: pillow>=8 in c:\\users\\oculo\\desktop\\test\\artificialin\\.conda\\lib\\site-packages (from matplotlib) (11.2.1)\n",
            "Requirement already satisfied: pyparsing>=2.3.1 in c:\\users\\oculo\\desktop\\test\\artificialin\\.conda\\lib\\site-packages (from matplotlib) (3.2.3)\n",
            "Requirement already satisfied: python-dateutil>=2.7 in c:\\users\\oculo\\desktop\\test\\artificialin\\.conda\\lib\\site-packages (from matplotlib) (2.9.0.post0)\n",
            "Requirement already satisfied: wheel<1.0,>=0.23.0 in c:\\users\\oculo\\desktop\\test\\artificialin\\.conda\\lib\\site-packages (from astunparse>=1.6.0->tensorflow) (0.45.1)\n",
            "Requirement already satisfied: rich in c:\\users\\oculo\\desktop\\test\\artificialin\\.conda\\lib\\site-packages (from keras>=3.5.0->tensorflow) (14.0.0)\n",
            "Requirement already satisfied: namex in c:\\users\\oculo\\desktop\\test\\artificialin\\.conda\\lib\\site-packages (from keras>=3.5.0->tensorflow) (0.1.0)\n",
            "Requirement already satisfied: optree in c:\\users\\oculo\\desktop\\test\\artificialin\\.conda\\lib\\site-packages (from keras>=3.5.0->tensorflow) (0.16.0)\n",
            "Requirement already satisfied: charset-normalizer<4,>=2 in c:\\users\\oculo\\desktop\\test\\artificialin\\.conda\\lib\\site-packages (from requests<3,>=2.21.0->tensorflow) (3.4.2)\n",
            "Requirement already satisfied: idna<4,>=2.5 in c:\\users\\oculo\\desktop\\test\\artificialin\\.conda\\lib\\site-packages (from requests<3,>=2.21.0->tensorflow) (3.10)\n",
            "Requirement already satisfied: urllib3<3,>=1.21.1 in c:\\users\\oculo\\desktop\\test\\artificialin\\.conda\\lib\\site-packages (from requests<3,>=2.21.0->tensorflow) (2.4.0)\n",
            "Requirement already satisfied: certifi>=2017.4.17 in c:\\users\\oculo\\desktop\\test\\artificialin\\.conda\\lib\\site-packages (from requests<3,>=2.21.0->tensorflow) (2025.4.26)\n",
            "Requirement already satisfied: markdown>=2.6.8 in c:\\users\\oculo\\desktop\\test\\artificialin\\.conda\\lib\\site-packages (from tensorboard~=2.19.0->tensorflow) (3.8)\n",
            "Requirement already satisfied: tensorboard-data-server<0.8.0,>=0.7.0 in c:\\users\\oculo\\desktop\\test\\artificialin\\.conda\\lib\\site-packages (from tensorboard~=2.19.0->tensorflow) (0.7.2)\n",
            "Requirement already satisfied: werkzeug>=1.0.1 in c:\\users\\oculo\\desktop\\test\\artificialin\\.conda\\lib\\site-packages (from tensorboard~=2.19.0->tensorflow) (3.1.3)\n",
            "Requirement already satisfied: MarkupSafe>=2.1.1 in c:\\users\\oculo\\desktop\\test\\artificialin\\.conda\\lib\\site-packages (from werkzeug>=1.0.1->tensorboard~=2.19.0->tensorflow) (3.0.2)\n",
            "Requirement already satisfied: markdown-it-py>=2.2.0 in c:\\users\\oculo\\desktop\\test\\artificialin\\.conda\\lib\\site-packages (from rich->keras>=3.5.0->tensorflow) (3.0.0)\n",
            "Requirement already satisfied: pygments<3.0.0,>=2.13.0 in c:\\users\\oculo\\desktop\\test\\artificialin\\.conda\\lib\\site-packages (from rich->keras>=3.5.0->tensorflow) (2.19.1)\n",
            "Requirement already satisfied: mdurl~=0.1 in c:\\users\\oculo\\desktop\\test\\artificialin\\.conda\\lib\\site-packages (from markdown-it-py>=2.2.0->rich->keras>=3.5.0->tensorflow) (0.1.2)\n",
            "Requirement already satisfied: efficientnet in c:\\users\\oculo\\desktop\\test\\artificialin\\.conda\\lib\\site-packages (1.1.1)\n",
            "Requirement already satisfied: keras-applications<=1.0.8,>=1.0.7 in c:\\users\\oculo\\desktop\\test\\artificialin\\.conda\\lib\\site-packages (from efficientnet) (1.0.8)\n",
            "Requirement already satisfied: scikit-image in c:\\users\\oculo\\desktop\\test\\artificialin\\.conda\\lib\\site-packages (from efficientnet) (0.25.2)\n",
            "Requirement already satisfied: numpy>=1.9.1 in c:\\users\\oculo\\desktop\\test\\artificialin\\.conda\\lib\\site-packages (from keras-applications<=1.0.8,>=1.0.7->efficientnet) (2.1.3)\n",
            "Requirement already satisfied: h5py in c:\\users\\oculo\\desktop\\test\\artificialin\\.conda\\lib\\site-packages (from keras-applications<=1.0.8,>=1.0.7->efficientnet) (3.13.0)\n",
            "Requirement already satisfied: scipy>=1.11.4 in c:\\users\\oculo\\desktop\\test\\artificialin\\.conda\\lib\\site-packages (from scikit-image->efficientnet) (1.15.3)\n",
            "Requirement already satisfied: networkx>=3.0 in c:\\users\\oculo\\desktop\\test\\artificialin\\.conda\\lib\\site-packages (from scikit-image->efficientnet) (3.5)\n",
            "Requirement already satisfied: pillow>=10.1 in c:\\users\\oculo\\desktop\\test\\artificialin\\.conda\\lib\\site-packages (from scikit-image->efficientnet) (11.2.1)\n",
            "Requirement already satisfied: imageio!=2.35.0,>=2.33 in c:\\users\\oculo\\desktop\\test\\artificialin\\.conda\\lib\\site-packages (from scikit-image->efficientnet) (2.37.0)\n",
            "Requirement already satisfied: tifffile>=2022.8.12 in c:\\users\\oculo\\desktop\\test\\artificialin\\.conda\\lib\\site-packages (from scikit-image->efficientnet) (2025.5.26)\n",
            "Requirement already satisfied: packaging>=21 in c:\\users\\oculo\\desktop\\test\\artificialin\\.conda\\lib\\site-packages (from scikit-image->efficientnet) (25.0)\n",
            "Requirement already satisfied: lazy-loader>=0.4 in c:\\users\\oculo\\desktop\\test\\artificialin\\.conda\\lib\\site-packages (from scikit-image->efficientnet) (0.4)\n",
            "Requirement already satisfied: pandas in c:\\users\\oculo\\desktop\\test\\artificialin\\.conda\\lib\\site-packages (2.2.3)\n",
            "Requirement already satisfied: numpy in c:\\users\\oculo\\desktop\\test\\artificialin\\.conda\\lib\\site-packages (2.1.3)\n",
            "Requirement already satisfied: opencv-python in c:\\users\\oculo\\desktop\\test\\artificialin\\.conda\\lib\\site-packages (4.11.0.86)\n",
            "Requirement already satisfied: tensorflow in c:\\users\\oculo\\desktop\\test\\artificialin\\.conda\\lib\\site-packages (2.19.0)\n",
            "Requirement already satisfied: kagglehub in c:\\users\\oculo\\desktop\\test\\artificialin\\.conda\\lib\\site-packages (0.3.12)\n",
            "Requirement already satisfied: python-dateutil>=2.8.2 in c:\\users\\oculo\\desktop\\test\\artificialin\\.conda\\lib\\site-packages (from pandas) (2.9.0.post0)\n",
            "Requirement already satisfied: pytz>=2020.1 in c:\\users\\oculo\\desktop\\test\\artificialin\\.conda\\lib\\site-packages (from pandas) (2025.2)\n",
            "Requirement already satisfied: tzdata>=2022.7 in c:\\users\\oculo\\desktop\\test\\artificialin\\.conda\\lib\\site-packages (from pandas) (2025.2)\n",
            "Requirement already satisfied: absl-py>=1.0.0 in c:\\users\\oculo\\desktop\\test\\artificialin\\.conda\\lib\\site-packages (from tensorflow) (2.3.0)\n",
            "Requirement already satisfied: astunparse>=1.6.0 in c:\\users\\oculo\\desktop\\test\\artificialin\\.conda\\lib\\site-packages (from tensorflow) (1.6.3)\n",
            "Requirement already satisfied: flatbuffers>=24.3.25 in c:\\users\\oculo\\desktop\\test\\artificialin\\.conda\\lib\\site-packages (from tensorflow) (25.2.10)\n",
            "Requirement already satisfied: gast!=0.5.0,!=0.5.1,!=0.5.2,>=0.2.1 in c:\\users\\oculo\\desktop\\test\\artificialin\\.conda\\lib\\site-packages (from tensorflow) (0.6.0)\n",
            "Requirement already satisfied: google-pasta>=0.1.1 in c:\\users\\oculo\\desktop\\test\\artificialin\\.conda\\lib\\site-packages (from tensorflow) (0.2.0)\n",
            "Requirement already satisfied: libclang>=13.0.0 in c:\\users\\oculo\\desktop\\test\\artificialin\\.conda\\lib\\site-packages (from tensorflow) (18.1.1)\n",
            "Requirement already satisfied: opt-einsum>=2.3.2 in c:\\users\\oculo\\desktop\\test\\artificialin\\.conda\\lib\\site-packages (from tensorflow) (3.4.0)\n",
            "Requirement already satisfied: packaging in c:\\users\\oculo\\desktop\\test\\artificialin\\.conda\\lib\\site-packages (from tensorflow) (25.0)\n",
            "Requirement already satisfied: protobuf!=4.21.0,!=4.21.1,!=4.21.2,!=4.21.3,!=4.21.4,!=4.21.5,<6.0.0dev,>=3.20.3 in c:\\users\\oculo\\desktop\\test\\artificialin\\.conda\\lib\\site-packages (from tensorflow) (5.29.5)\n",
            "Requirement already satisfied: requests<3,>=2.21.0 in c:\\users\\oculo\\desktop\\test\\artificialin\\.conda\\lib\\site-packages (from tensorflow) (2.32.3)\n",
            "Requirement already satisfied: setuptools in c:\\users\\oculo\\desktop\\test\\artificialin\\.conda\\lib\\site-packages (from tensorflow) (75.8.0)\n",
            "Requirement already satisfied: six>=1.12.0 in c:\\users\\oculo\\desktop\\test\\artificialin\\.conda\\lib\\site-packages (from tensorflow) (1.17.0)\n",
            "Requirement already satisfied: termcolor>=1.1.0 in c:\\users\\oculo\\desktop\\test\\artificialin\\.conda\\lib\\site-packages (from tensorflow) (3.1.0)\n",
            "Requirement already satisfied: typing-extensions>=3.6.6 in c:\\users\\oculo\\desktop\\test\\artificialin\\.conda\\lib\\site-packages (from tensorflow) (4.13.2)\n",
            "Requirement already satisfied: wrapt>=1.11.0 in c:\\users\\oculo\\desktop\\test\\artificialin\\.conda\\lib\\site-packages (from tensorflow) (1.17.2)\n",
            "Requirement already satisfied: grpcio<2.0,>=1.24.3 in c:\\users\\oculo\\desktop\\test\\artificialin\\.conda\\lib\\site-packages (from tensorflow) (1.71.0)\n",
            "Requirement already satisfied: tensorboard~=2.19.0 in c:\\users\\oculo\\desktop\\test\\artificialin\\.conda\\lib\\site-packages (from tensorflow) (2.19.0)\n",
            "Requirement already satisfied: keras>=3.5.0 in c:\\users\\oculo\\desktop\\test\\artificialin\\.conda\\lib\\site-packages (from tensorflow) (3.10.0)\n",
            "Requirement already satisfied: h5py>=3.11.0 in c:\\users\\oculo\\desktop\\test\\artificialin\\.conda\\lib\\site-packages (from tensorflow) (3.13.0)\n",
            "Requirement already satisfied: ml-dtypes<1.0.0,>=0.5.1 in c:\\users\\oculo\\desktop\\test\\artificialin\\.conda\\lib\\site-packages (from tensorflow) (0.5.1)\n",
            "Requirement already satisfied: tensorflow-io-gcs-filesystem>=0.23.1 in c:\\users\\oculo\\desktop\\test\\artificialin\\.conda\\lib\\site-packages (from tensorflow) (0.31.0)\n",
            "Requirement already satisfied: pyyaml in c:\\users\\oculo\\desktop\\test\\artificialin\\.conda\\lib\\site-packages (from kagglehub) (6.0.2)\n",
            "Requirement already satisfied: tqdm in c:\\users\\oculo\\desktop\\test\\artificialin\\.conda\\lib\\site-packages (from kagglehub) (4.67.1)\n",
            "Requirement already satisfied: wheel<1.0,>=0.23.0 in c:\\users\\oculo\\desktop\\test\\artificialin\\.conda\\lib\\site-packages (from astunparse>=1.6.0->tensorflow) (0.45.1)\n",
            "Requirement already satisfied: rich in c:\\users\\oculo\\desktop\\test\\artificialin\\.conda\\lib\\site-packages (from keras>=3.5.0->tensorflow) (14.0.0)\n",
            "Requirement already satisfied: namex in c:\\users\\oculo\\desktop\\test\\artificialin\\.conda\\lib\\site-packages (from keras>=3.5.0->tensorflow) (0.1.0)\n",
            "Requirement already satisfied: optree in c:\\users\\oculo\\desktop\\test\\artificialin\\.conda\\lib\\site-packages (from keras>=3.5.0->tensorflow) (0.16.0)\n",
            "Requirement already satisfied: charset-normalizer<4,>=2 in c:\\users\\oculo\\desktop\\test\\artificialin\\.conda\\lib\\site-packages (from requests<3,>=2.21.0->tensorflow) (3.4.2)\n",
            "Requirement already satisfied: idna<4,>=2.5 in c:\\users\\oculo\\desktop\\test\\artificialin\\.conda\\lib\\site-packages (from requests<3,>=2.21.0->tensorflow) (3.10)\n",
            "Requirement already satisfied: urllib3<3,>=1.21.1 in c:\\users\\oculo\\desktop\\test\\artificialin\\.conda\\lib\\site-packages (from requests<3,>=2.21.0->tensorflow) (2.4.0)\n",
            "Requirement already satisfied: certifi>=2017.4.17 in c:\\users\\oculo\\desktop\\test\\artificialin\\.conda\\lib\\site-packages (from requests<3,>=2.21.0->tensorflow) (2025.4.26)\n",
            "Requirement already satisfied: markdown>=2.6.8 in c:\\users\\oculo\\desktop\\test\\artificialin\\.conda\\lib\\site-packages (from tensorboard~=2.19.0->tensorflow) (3.8)\n",
            "Requirement already satisfied: tensorboard-data-server<0.8.0,>=0.7.0 in c:\\users\\oculo\\desktop\\test\\artificialin\\.conda\\lib\\site-packages (from tensorboard~=2.19.0->tensorflow) (0.7.2)\n",
            "Requirement already satisfied: werkzeug>=1.0.1 in c:\\users\\oculo\\desktop\\test\\artificialin\\.conda\\lib\\site-packages (from tensorboard~=2.19.0->tensorflow) (3.1.3)\n",
            "Requirement already satisfied: colorama in c:\\users\\oculo\\desktop\\test\\artificialin\\.conda\\lib\\site-packages (from tqdm->kagglehub) (0.4.6)\n",
            "Requirement already satisfied: MarkupSafe>=2.1.1 in c:\\users\\oculo\\desktop\\test\\artificialin\\.conda\\lib\\site-packages (from werkzeug>=1.0.1->tensorboard~=2.19.0->tensorflow) (3.0.2)\n",
            "Requirement already satisfied: markdown-it-py>=2.2.0 in c:\\users\\oculo\\desktop\\test\\artificialin\\.conda\\lib\\site-packages (from rich->keras>=3.5.0->tensorflow) (3.0.0)\n",
            "Requirement already satisfied: pygments<3.0.0,>=2.13.0 in c:\\users\\oculo\\desktop\\test\\artificialin\\.conda\\lib\\site-packages (from rich->keras>=3.5.0->tensorflow) (2.19.1)\n",
            "Requirement already satisfied: mdurl~=0.1 in c:\\users\\oculo\\desktop\\test\\artificialin\\.conda\\lib\\site-packages (from markdown-it-py>=2.2.0->rich->keras>=3.5.0->tensorflow) (0.1.2)\n",
            "Requirement already satisfied: scikit-learn in c:\\users\\oculo\\desktop\\test\\artificialin\\.conda\\lib\\site-packages (1.6.1)\n",
            "Requirement already satisfied: numpy>=1.19.5 in c:\\users\\oculo\\desktop\\test\\artificialin\\.conda\\lib\\site-packages (from scikit-learn) (2.1.3)\n",
            "Requirement already satisfied: scipy>=1.6.0 in c:\\users\\oculo\\desktop\\test\\artificialin\\.conda\\lib\\site-packages (from scikit-learn) (1.15.3)\n",
            "Requirement already satisfied: joblib>=1.2.0 in c:\\users\\oculo\\desktop\\test\\artificialin\\.conda\\lib\\site-packages (from scikit-learn) (1.5.1)\n",
            "Requirement already satisfied: threadpoolctl>=3.1.0 in c:\\users\\oculo\\desktop\\test\\artificialin\\.conda\\lib\\site-packages (from scikit-learn) (3.6.0)\n"
          ]
        }
      ],
      "source": [
        "!pip install tensorflow opencv-python matplotlib\n",
        "!pip install efficientnet\n",
        "!pip install pandas numpy opencv-python tensorflow kagglehub\n",
        "!pip install scikit-learn\n",
        "\n"
      ]
    },
    {
      "cell_type": "markdown",
      "metadata": {
        "id": "xA0COst99L6j"
      },
      "source": [
        "# 2. 데이터 전처리하기"
      ]
    },
    {
      "cell_type": "markdown",
      "metadata": {
        "id": "qARcpW7i-UiJ"
      },
      "source": [
        "## 2.1 kaggle 데이터 다운하기"
      ]
    },
    {
      "cell_type": "code",
      "execution_count": 2,
      "metadata": {
        "colab": {
          "base_uri": "https://localhost:8080/"
        },
        "collapsed": true,
        "id": "kp5M_tdU9UpI",
        "outputId": "e38aa58f-8f0e-4908-e52c-838721319046"
      },
      "outputs": [
        {
          "name": "stderr",
          "output_type": "stream",
          "text": [
            "c:\\Users\\oculo\\Desktop\\test\\artificialin\\.conda\\Lib\\site-packages\\tqdm\\auto.py:21: TqdmWarning: IProgress not found. Please update jupyter and ipywidgets. See https://ipywidgets.readthedocs.io/en/stable/user_install.html\n",
            "  from .autonotebook import tqdm as notebook_tqdm\n"
          ]
        },
        {
          "name": "stdout",
          "output_type": "stream",
          "text": [
            "실제 다운로드된 경로: C:\\Users\\oculo\\.cache\\kagglehub\\datasets\\danielshanbalico\\dog-emotion\\versions\\1\n",
            "해당 경로 내 파일/폴더: ['Dog Emotion']\n"
          ]
        }
      ],
      "source": [
        "import os\n",
        "import pandas as pd\n",
        "import numpy as np\n",
        "import tensorflow as tf\n",
        "import cv2\n",
        "import kagglehub\n",
        "\n",
        "# 1. kagglehub로 실제 경로 다운로드\n",
        "path = kagglehub.dataset_download(\"danielshanbalico/dog-emotion\")\n",
        "data_dir = os.path.join(path, 'Dog Emotion')\n",
        "print(\"실제 다운로드된 경로:\", path)\n",
        "print(\"해당 경로 내 파일/폴더:\", os.listdir(path))\n",
        "\n",
        "\n"
      ]
    },
    {
      "cell_type": "markdown",
      "metadata": {
        "id": "ryn6M_zHaay5"
      },
      "source": [
        "## 2.2 데이터 로드\n"
      ]
    },
    {
      "cell_type": "code",
      "execution_count": 3,
      "metadata": {
        "colab": {
          "base_uri": "https://localhost:8080/"
        },
        "id": "O3mlSDaebA8U",
        "outputId": "97c5ccc3-5a69-485b-bdd0-bd63a17f9695"
      },
      "outputs": [
        {
          "name": "stdout",
          "output_type": "stream",
          "text": [
            "클래스 목록: ['angry', 'happy', 'relaxed', 'sad']\n",
            "이미지 개수: 4000, 라벨 개수: 4000\n",
            "라벨 예시 (one-hot):\n",
            "[[0. 0. 0. 1.]\n",
            " [0. 0. 0. 1.]\n",
            " [1. 0. 0. 0.]\n",
            " [1. 0. 0. 0.]\n",
            " [0. 0. 1. 0.]]\n"
          ]
        }
      ],
      "source": [
        "# 2. labels.csv 경로\n",
        "labels_csv_path = os.path.join(data_dir, 'labels.csv')\n",
        "labels_df = pd.read_csv(labels_csv_path)\n",
        "\n",
        "# 3. 감정 레이블 폴더 이름 불러오기\n",
        "class_names = sorted([d for d in os.listdir(data_dir) if os.path.isdir(os.path.join(data_dir, d))])\n",
        "print(f'클래스 목록: {class_names}')\n",
        "\n",
        "# 4. 레이블 매핑\n",
        "label_map = {name: idx for idx, name in enumerate(class_names)}\n",
        "\n",
        "# 5. 이미지 로딩 함수\n",
        "def load_and_preprocess_img(img_path):\n",
        "    img = cv2.imread(img_path)\n",
        "    if img is None:\n",
        "        print(f\"이미지 파일을 불러올 수 없습니다: {img_path}\")\n",
        "        return None\n",
        "    img = cv2.cvtColor(img, cv2.COLOR_BGR2RGB)\n",
        "    img = cv2.resize(img, (224,224))\n",
        "    img = img / 255.0\n",
        "    return img\n",
        "\n",
        "# 6. 이미지 및 레이블 로딩\n",
        "images, labels = [], []\n",
        "for _, row in labels_df.iterrows():\n",
        "    img_path = os.path.join(data_dir, row['label'], row['filename'])\n",
        "    img = load_and_preprocess_img(img_path)\n",
        "    if img is not None:\n",
        "        images.append(img)\n",
        "        labels.append(label_map[row['label']])\n",
        "\n",
        "# 7. 배열 및 one-hot 인코딩\n",
        "images = np.array(images)\n",
        "labels = tf.keras.utils.to_categorical(labels, num_classes=len(class_names))\n",
        "\n",
        "# 8. 확인\n",
        "print(f'이미지 개수: {images.shape[0]}, 라벨 개수: {labels.shape[0]}')\n",
        "print(f'라벨 예시 (one-hot):\\n{labels[:5]}')"
      ]
    },
    {
      "cell_type": "markdown",
      "metadata": {
        "id": "oHzxF4C5i0gd"
      },
      "source": [
        "# 3. test, valid, train set 나누기"
      ]
    },
    {
      "cell_type": "code",
      "execution_count": 4,
      "metadata": {
        "id": "pZvNwgFOi-4X"
      },
      "outputs": [],
      "source": [
        "from sklearn.model_selection import train_test_split\n",
        "\n",
        "# 1) train+val / test 분리 (10%를 test로 분리)\n",
        "train_val_images, test_images, train_val_labels, test_labels = train_test_split(\n",
        "    images, labels, test_size=0.1, random_state=42, stratify=labels\n",
        ")\n",
        "\n",
        "# 2) train / val 분리 (train_val 중 10%를 validation으로 분리)\n",
        "train_images, val_images, train_labels, val_labels = train_test_split(\n",
        "    train_val_images, train_val_labels, test_size=0.1, random_state=42, stratify=train_val_labels\n",
        ")\n"
      ]
    },
    {
      "cell_type": "markdown",
      "metadata": {
        "id": "_sz-k63E7Y7_"
      },
      "source": [
        "# 4. 전이 학습 모델 구성 (EfficientNetB4 사용)"
      ]
    },
    {
      "cell_type": "markdown",
      "metadata": {
        "id": "-6umalnALggH"
      },
      "source": [
        "## 4.1 Feature Extracter로 사전 학습"
      ]
    },
    {
      "cell_type": "markdown",
      "metadata": {
        "id": "ivyu6pyEL7_G"
      },
      "source": [
        "이미지넷으로 이미 학습된 가중치를 그대로 활용하기 위해서 Feature Extrator를 사용합니다. EfficientNetB0은 선, 모양 색 변화 등 저 수준의 특징을 추출하는 하위층과 귀,입, 꼬리 등 물체의 일부를 감지하는 중간 층, 그리고 전체 물체와 감정등을 추론하는 상위층으로 이루어져 있습니다.Feature Extractor에서 하위, 중간층만 그대로 받아옵니다."
      ]
    },
    {
      "cell_type": "code",
      "execution_count": null,
      "metadata": {
        "colab": {
          "base_uri": "https://localhost:8080/"
        },
        "id": "JL88ZZip5nBk",
        "outputId": "ce4f626d-fc99-449b-f023-dd33892e8920"
      },
      "outputs": [
        {
          "name": "stdout",
          "output_type": "stream",
          "text": [
            "Epoch 1/15\n",
            "\u001b[1m102/102\u001b[0m \u001b[32m━━━━━━━━━━━━━━━━━━━━\u001b[0m\u001b[37m\u001b[0m \u001b[1m111s\u001b[0m 961ms/step - accuracy: 0.2473 - loss: 1.4368 - val_accuracy: 0.2500 - val_loss: 1.3948 - learning_rate: 0.0010\n",
            "Epoch 2/15\n",
            "\u001b[1m102/102\u001b[0m \u001b[32m━━━━━━━━━━━━━━━━━━━━\u001b[0m\u001b[37m\u001b[0m \u001b[1m94s\u001b[0m 919ms/step - accuracy: 0.2538 - loss: 1.4337 - val_accuracy: 0.2500 - val_loss: 1.4060 - learning_rate: 0.0010\n",
            "Epoch 3/15\n",
            "\u001b[1m102/102\u001b[0m \u001b[32m━━━━━━━━━━━━━━━━━━━━\u001b[0m\u001b[37m\u001b[0m \u001b[1m94s\u001b[0m 923ms/step - accuracy: 0.2574 - loss: 1.4219 - val_accuracy: 0.2500 - val_loss: 1.3960 - learning_rate: 0.0010\n",
            "Epoch 4/15\n",
            "\u001b[1m102/102\u001b[0m \u001b[32m━━━━━━━━━━━━━━━━━━━━\u001b[0m\u001b[37m\u001b[0m \u001b[1m94s\u001b[0m 921ms/step - accuracy: 0.2492 - loss: 1.4144 - val_accuracy: 0.2556 - val_loss: 1.3980 - learning_rate: 0.0010\n",
            "Epoch 5/15\n",
            "\u001b[1m102/102\u001b[0m \u001b[32m━━━━━━━━━━━━━━━━━━━━\u001b[0m\u001b[37m\u001b[0m \u001b[1m96s\u001b[0m 938ms/step - accuracy: 0.2356 - loss: 1.4217 - val_accuracy: 0.2750 - val_loss: 1.3877 - learning_rate: 3.0000e-04\n",
            "Epoch 6/15\n",
            "\u001b[1m102/102\u001b[0m \u001b[32m━━━━━━━━━━━━━━━━━━━━\u001b[0m\u001b[37m\u001b[0m \u001b[1m96s\u001b[0m 938ms/step - accuracy: 0.2602 - loss: 1.4194 - val_accuracy: 0.2528 - val_loss: 1.3880 - learning_rate: 3.0000e-04\n",
            "Epoch 7/15\n",
            "\u001b[1m102/102\u001b[0m \u001b[32m━━━━━━━━━━━━━━━━━━━━\u001b[0m\u001b[37m\u001b[0m \u001b[1m96s\u001b[0m 937ms/step - accuracy: 0.2559 - loss: 1.4047 - val_accuracy: 0.2500 - val_loss: 1.3906 - learning_rate: 3.0000e-04\n",
            "Epoch 8/15\n",
            "\u001b[1m102/102\u001b[0m \u001b[32m━━━━━━━━━━━━━━━━━━━━\u001b[0m\u001b[37m\u001b[0m \u001b[1m95s\u001b[0m 935ms/step - accuracy: 0.2575 - loss: 1.4073 - val_accuracy: 0.2472 - val_loss: 1.3879 - learning_rate: 3.0000e-04\n",
            "Epoch 9/15\n",
            "\u001b[1m102/102\u001b[0m \u001b[32m━━━━━━━━━━━━━━━━━━━━\u001b[0m\u001b[37m\u001b[0m \u001b[1m96s\u001b[0m 945ms/step - accuracy: 0.2515 - loss: 1.4085 - val_accuracy: 0.2556 - val_loss: 1.3868 - learning_rate: 9.0000e-05\n",
            "Epoch 10/15\n",
            "\u001b[1m102/102\u001b[0m \u001b[32m━━━━━━━━━━━━━━━━━━━━\u001b[0m\u001b[37m\u001b[0m \u001b[1m95s\u001b[0m 937ms/step - accuracy: 0.2486 - loss: 1.4125 - val_accuracy: 0.2556 - val_loss: 1.3871 - learning_rate: 9.0000e-05\n",
            "Epoch 11/15\n",
            "\u001b[1m102/102\u001b[0m \u001b[32m━━━━━━━━━━━━━━━━━━━━\u001b[0m\u001b[37m\u001b[0m \u001b[1m96s\u001b[0m 937ms/step - accuracy: 0.2675 - loss: 1.4012 - val_accuracy: 0.2472 - val_loss: 1.3868 - learning_rate: 9.0000e-05\n",
            "Epoch 12/15\n",
            "\u001b[1m102/102\u001b[0m \u001b[32m━━━━━━━━━━━━━━━━━━━━\u001b[0m\u001b[37m\u001b[0m \u001b[1m96s\u001b[0m 937ms/step - accuracy: 0.2556 - loss: 1.4106 - val_accuracy: 0.2583 - val_loss: 1.3874 - learning_rate: 9.0000e-05\n",
            "Epoch 13/15\n",
            "\u001b[1m102/102\u001b[0m \u001b[32m━━━━━━━━━━━━━━━━━━━━\u001b[0m\u001b[37m\u001b[0m \u001b[1m95s\u001b[0m 931ms/step - accuracy: 0.2511 - loss: 1.4083 - val_accuracy: 0.2667 - val_loss: 1.3866 - learning_rate: 2.7000e-05\n",
            "Epoch 14/15\n",
            "\u001b[1m102/102\u001b[0m \u001b[32m━━━━━━━━━━━━━━━━━━━━\u001b[0m\u001b[37m\u001b[0m \u001b[1m94s\u001b[0m 925ms/step - accuracy: 0.2667 - loss: 1.3985 - val_accuracy: 0.3056 - val_loss: 1.3864 - learning_rate: 2.7000e-05\n",
            "Epoch 15/15\n",
            "\u001b[1m102/102\u001b[0m \u001b[32m━━━━━━━━━━━━━━━━━━━━\u001b[0m\u001b[37m\u001b[0m \u001b[1m94s\u001b[0m 919ms/step - accuracy: 0.2687 - loss: 1.3932 - val_accuracy: 0.2667 - val_loss: 1.3864 - learning_rate: 2.7000e-05\n"
          ]
        }
      ],
      "source": [
        "from tensorflow.keras.applications import EfficientNetB4\n",
        "from tensorflow.keras.models import Model\n",
        "from tensorflow.keras.layers import Dense, GlobalAveragePooling2D, Dropout, Input\n",
        "from tensorflow.keras.callbacks import EarlyStopping, ReduceLROnPlateau\n",
        "from tensorflow.keras.regularizers import l2  # ✅ L2 정규화 임포트\n",
        "\n",
        "early_stop = EarlyStopping(monitor='val_loss', patience=5, restore_best_weights=True)\n",
        "reduce_lr = ReduceLROnPlateau(monitor='val_loss', factor=0.3, patience=3)\n",
        "\n",
        "base_model = EfficientNetB4(weights='imagenet', include_top=False, input_shape=(224,224, 3))\n",
        "base_model.trainable = False  # 처음엔 학습하지 않음 (Feature Extractor로 사용)\n",
        "\n",
        "inputs = Input(shape=(224,224, 3))\n",
        "x = base_model(inputs, training=False)\n",
        "x = GlobalAveragePooling2D()(x)\n",
        "x = Dropout(0.6)(x)\n",
        "\n",
        "outputs = Dense(len(class_names), activation='softmax', kernel_regularizer=l2(0.0001))(x)\n",
        "\n",
        "model = Model(inputs, outputs)\n",
        "model.compile(optimizer='adam', loss='categorical_crossentropy', metrics=['accuracy'])\n",
        "\n",
        "# 1차 학습 (기본 모델 고정)\n",
        "hist = model.fit(\n",
        "    train_images, train_labels,\n",
        "    epochs=15,\n",
        "    validation_data=(val_images, val_labels),\n",
        "    callbacks=[early_stop, reduce_lr]\n",
        ")\n",
        "\n"
      ]
    },
    {
      "cell_type": "markdown",
      "metadata": {
        "id": "UZfWefwn7o5S"
      },
      "source": [
        "## 4.2 상위층 학습"
      ]
    },
    {
      "cell_type": "code",
      "execution_count": 7,
      "metadata": {
        "colab": {
          "base_uri": "https://localhost:8080/"
        },
        "id": "TS7rYhmY7uRx",
        "outputId": "c5d2b6a8-0341-4fbb-c6f2-70c381fabcd4"
      },
      "outputs": [
        {
          "name": "stdout",
          "output_type": "stream",
          "text": [
            "Epoch 1/20\n",
            "\u001b[1m102/102\u001b[0m \u001b[32m━━━━━━━━━━━━━━━━━━━━\u001b[0m\u001b[37m\u001b[0m \u001b[1m661s\u001b[0m 6s/step - accuracy: 0.2945 - loss: 1.4275 - val_accuracy: 0.2500 - val_loss: 1.4229 - learning_rate: 1.0000e-05\n",
            "Epoch 2/20\n",
            "\u001b[1m102/102\u001b[0m \u001b[32m━━━━━━━━━━━━━━━━━━━━\u001b[0m\u001b[37m\u001b[0m \u001b[1m618s\u001b[0m 6s/step - accuracy: 0.3672 - loss: 1.3200 - val_accuracy: 0.2472 - val_loss: 1.4140 - learning_rate: 1.0000e-05\n",
            "Epoch 3/20\n",
            "\u001b[1m102/102\u001b[0m \u001b[32m━━━━━━━━━━━━━━━━━━━━\u001b[0m\u001b[37m\u001b[0m \u001b[1m607s\u001b[0m 6s/step - accuracy: 0.4622 - loss: 1.2286 - val_accuracy: 0.2583 - val_loss: 1.4151 - learning_rate: 1.0000e-05\n",
            "Epoch 4/20\n",
            "\u001b[1m102/102\u001b[0m \u001b[32m━━━━━━━━━━━━━━━━━━━━\u001b[0m\u001b[37m\u001b[0m \u001b[1m579s\u001b[0m 6s/step - accuracy: 0.5048 - loss: 1.1529 - val_accuracy: 0.3611 - val_loss: 1.3233 - learning_rate: 1.0000e-05\n",
            "Epoch 5/20\n",
            "\u001b[1m102/102\u001b[0m \u001b[32m━━━━━━━━━━━━━━━━━━━━\u001b[0m\u001b[37m\u001b[0m \u001b[1m579s\u001b[0m 6s/step - accuracy: 0.5528 - loss: 1.0587 - val_accuracy: 0.4028 - val_loss: 1.2579 - learning_rate: 1.0000e-05\n",
            "Epoch 6/20\n",
            "\u001b[1m102/102\u001b[0m \u001b[32m━━━━━━━━━━━━━━━━━━━━\u001b[0m\u001b[37m\u001b[0m \u001b[1m580s\u001b[0m 6s/step - accuracy: 0.6073 - loss: 0.9766 - val_accuracy: 0.6028 - val_loss: 1.0713 - learning_rate: 1.0000e-05\n",
            "Epoch 7/20\n",
            "\u001b[1m102/102\u001b[0m \u001b[32m━━━━━━━━━━━━━━━━━━━━\u001b[0m\u001b[37m\u001b[0m \u001b[1m581s\u001b[0m 6s/step - accuracy: 0.6535 - loss: 0.9099 - val_accuracy: 0.6472 - val_loss: 0.9790 - learning_rate: 1.0000e-05\n",
            "Epoch 8/20\n",
            "\u001b[1m102/102\u001b[0m \u001b[32m━━━━━━━━━━━━━━━━━━━━\u001b[0m\u001b[37m\u001b[0m \u001b[1m572s\u001b[0m 6s/step - accuracy: 0.6730 - loss: 0.8585 - val_accuracy: 0.6972 - val_loss: 0.8844 - learning_rate: 1.0000e-05\n",
            "Epoch 9/20\n",
            "\u001b[1m102/102\u001b[0m \u001b[32m━━━━━━━━━━━━━━━━━━━━\u001b[0m\u001b[37m\u001b[0m \u001b[1m572s\u001b[0m 6s/step - accuracy: 0.7109 - loss: 0.7770 - val_accuracy: 0.7056 - val_loss: 0.8190 - learning_rate: 1.0000e-05\n",
            "Epoch 10/20\n",
            "\u001b[1m102/102\u001b[0m \u001b[32m━━━━━━━━━━━━━━━━━━━━\u001b[0m\u001b[37m\u001b[0m \u001b[1m571s\u001b[0m 6s/step - accuracy: 0.7485 - loss: 0.6772 - val_accuracy: 0.7222 - val_loss: 0.7913 - learning_rate: 1.0000e-05\n",
            "Epoch 11/20\n",
            "\u001b[1m102/102\u001b[0m \u001b[32m━━━━━━━━━━━━━━━━━━━━\u001b[0m\u001b[37m\u001b[0m \u001b[1m579s\u001b[0m 6s/step - accuracy: 0.7871 - loss: 0.6319 - val_accuracy: 0.6972 - val_loss: 0.7779 - learning_rate: 1.0000e-05\n",
            "Epoch 12/20\n",
            "\u001b[1m102/102\u001b[0m \u001b[32m━━━━━━━━━━━━━━━━━━━━\u001b[0m\u001b[37m\u001b[0m \u001b[1m579s\u001b[0m 6s/step - accuracy: 0.7965 - loss: 0.5900 - val_accuracy: 0.7361 - val_loss: 0.7199 - learning_rate: 1.0000e-05\n",
            "Epoch 13/20\n",
            "\u001b[1m102/102\u001b[0m \u001b[32m━━━━━━━━━━━━━━━━━━━━\u001b[0m\u001b[37m\u001b[0m \u001b[1m583s\u001b[0m 6s/step - accuracy: 0.8139 - loss: 0.5340 - val_accuracy: 0.7333 - val_loss: 0.6954 - learning_rate: 1.0000e-05\n",
            "Epoch 14/20\n",
            "\u001b[1m102/102\u001b[0m \u001b[32m━━━━━━━━━━━━━━━━━━━━\u001b[0m\u001b[37m\u001b[0m \u001b[1m583s\u001b[0m 6s/step - accuracy: 0.8375 - loss: 0.4975 - val_accuracy: 0.7528 - val_loss: 0.6597 - learning_rate: 1.0000e-05\n",
            "Epoch 15/20\n",
            "\u001b[1m102/102\u001b[0m \u001b[32m━━━━━━━━━━━━━━━━━━━━\u001b[0m\u001b[37m\u001b[0m \u001b[1m579s\u001b[0m 6s/step - accuracy: 0.8584 - loss: 0.4311 - val_accuracy: 0.7472 - val_loss: 0.6523 - learning_rate: 1.0000e-05\n",
            "Epoch 16/20\n",
            "\u001b[1m102/102\u001b[0m \u001b[32m━━━━━━━━━━━━━━━━━━━━\u001b[0m\u001b[37m\u001b[0m \u001b[1m581s\u001b[0m 6s/step - accuracy: 0.8655 - loss: 0.4028 - val_accuracy: 0.7833 - val_loss: 0.6178 - learning_rate: 1.0000e-05\n",
            "Epoch 17/20\n",
            "\u001b[1m102/102\u001b[0m \u001b[32m━━━━━━━━━━━━━━━━━━━━\u001b[0m\u001b[37m\u001b[0m \u001b[1m582s\u001b[0m 6s/step - accuracy: 0.8956 - loss: 0.3551 - val_accuracy: 0.7667 - val_loss: 0.6231 - learning_rate: 1.0000e-05\n",
            "Epoch 18/20\n",
            "\u001b[1m102/102\u001b[0m \u001b[32m━━━━━━━━━━━━━━━━━━━━\u001b[0m\u001b[37m\u001b[0m \u001b[1m575s\u001b[0m 6s/step - accuracy: 0.8946 - loss: 0.3229 - val_accuracy: 0.7917 - val_loss: 0.5997 - learning_rate: 1.0000e-05\n",
            "Epoch 19/20\n",
            "\u001b[1m102/102\u001b[0m \u001b[32m━━━━━━━━━━━━━━━━━━━━\u001b[0m\u001b[37m\u001b[0m \u001b[1m576s\u001b[0m 6s/step - accuracy: 0.9087 - loss: 0.2971 - val_accuracy: 0.7889 - val_loss: 0.5900 - learning_rate: 1.0000e-05\n",
            "Epoch 20/20\n",
            "\u001b[1m102/102\u001b[0m \u001b[32m━━━━━━━━━━━━━━━━━━━━\u001b[0m\u001b[37m\u001b[0m \u001b[1m576s\u001b[0m 6s/step - accuracy: 0.9207 - loss: 0.2764 - val_accuracy: 0.7861 - val_loss: 0.5839 - learning_rate: 1.0000e-05\n"
          ]
        }
      ],
      "source": [
        "# base_model의 일부 층부터 학습 가능하게 설정\n",
        "base_model.trainable = True\n",
        "\n",
        "# (선택) 특정 층까지만 학습되도록 설정하고 싶을 때:\n",
        "# fine_tune_at = 100\n",
        "# for layer in base_model.layers[:fine_tune_at]:\n",
        "#     layer.trainable = False\n",
        "\n",
        "# 컴파일 다시 (학습 가능한 가중치가 생겼기 때문)\n",
        "model.compile(\n",
        "    optimizer=tf.keras.optimizers.Adam(1e-5),  # 전이학습엔 낮은 학습률이 중요\n",
        "    loss='categorical_crossentropy',\n",
        "    metrics=['accuracy']\n",
        ")\n",
        "\n",
        "# 2차 학습 (전이 학습)\n",
        "hist_fine = model.fit(\n",
        "    train_images, train_labels,\n",
        "    epochs=20,\n",
        "    validation_data=(val_images, val_labels),\n",
        "        callbacks=[early_stop, reduce_lr]\n",
        ")\n"
      ]
    },
    {
      "cell_type": "markdown",
      "metadata": {
        "id": "zgVBy36tlyFk"
      },
      "source": [
        "# 5. 데이터 증강학습"
      ]
    },
    {
      "cell_type": "markdown",
      "metadata": {
        "id": "CfMOgN66lIyh"
      },
      "source": []
    },
    {
      "cell_type": "code",
      "execution_count": 8,
      "metadata": {
        "colab": {
          "base_uri": "https://localhost:8080/"
        },
        "id": "ah1nikw-lKT7",
        "outputId": "4ab4bc97-8520-4582-d291-e6d7b085f172"
      },
      "outputs": [
        {
          "name": "stderr",
          "output_type": "stream",
          "text": [
            "c:\\Users\\oculo\\Desktop\\test\\artificialin\\.conda\\Lib\\site-packages\\keras\\src\\trainers\\data_adapters\\py_dataset_adapter.py:121: UserWarning: Your `PyDataset` class should call `super().__init__(**kwargs)` in its constructor. `**kwargs` can include `workers`, `use_multiprocessing`, `max_queue_size`. Do not pass these arguments to `fit()`, as they will be ignored.\n",
            "  self._warn_if_super_not_called()\n"
          ]
        },
        {
          "name": "stdout",
          "output_type": "stream",
          "text": [
            "Epoch 1/15\n",
            "\u001b[1m405/405\u001b[0m \u001b[32m━━━━━━━━━━━━━━━━━━━━\u001b[0m\u001b[37m\u001b[0m \u001b[1m614s\u001b[0m 1s/step - accuracy: 0.7422 - loss: 0.6442 - val_accuracy: 0.7694 - val_loss: 0.5999 - learning_rate: 1.0000e-05\n",
            "Epoch 2/15\n",
            "\u001b[1m405/405\u001b[0m \u001b[32m━━━━━━━━━━━━━━━━━━━━\u001b[0m\u001b[37m\u001b[0m \u001b[1m571s\u001b[0m 1s/step - accuracy: 0.7566 - loss: 0.6343 - val_accuracy: 0.7917 - val_loss: 0.5930 - learning_rate: 1.0000e-05\n",
            "Epoch 3/15\n",
            "\u001b[1m405/405\u001b[0m \u001b[32m━━━━━━━━━━━━━━━━━━━━\u001b[0m\u001b[37m\u001b[0m \u001b[1m576s\u001b[0m 1s/step - accuracy: 0.7756 - loss: 0.5711 - val_accuracy: 0.7500 - val_loss: 0.6646 - learning_rate: 1.0000e-05\n",
            "Epoch 4/15\n",
            "\u001b[1m405/405\u001b[0m \u001b[32m━━━━━━━━━━━━━━━━━━━━\u001b[0m\u001b[37m\u001b[0m \u001b[1m589s\u001b[0m 1s/step - accuracy: 0.7861 - loss: 0.5439 - val_accuracy: 0.8056 - val_loss: 0.5515 - learning_rate: 1.0000e-05\n",
            "Epoch 5/15\n",
            "\u001b[1m405/405\u001b[0m \u001b[32m━━━━━━━━━━━━━━━━━━━━\u001b[0m\u001b[37m\u001b[0m \u001b[1m591s\u001b[0m 1s/step - accuracy: 0.8003 - loss: 0.5094 - val_accuracy: 0.8083 - val_loss: 0.5326 - learning_rate: 1.0000e-05\n",
            "Epoch 6/15\n",
            "\u001b[1m405/405\u001b[0m \u001b[32m━━━━━━━━━━━━━━━━━━━━\u001b[0m\u001b[37m\u001b[0m \u001b[1m582s\u001b[0m 1s/step - accuracy: 0.8257 - loss: 0.4685 - val_accuracy: 0.8056 - val_loss: 0.5153 - learning_rate: 1.0000e-05\n",
            "Epoch 7/15\n",
            "\u001b[1m405/405\u001b[0m \u001b[32m━━━━━━━━━━━━━━━━━━━━\u001b[0m\u001b[37m\u001b[0m \u001b[1m593s\u001b[0m 1s/step - accuracy: 0.8255 - loss: 0.4560 - val_accuracy: 0.8111 - val_loss: 0.5082 - learning_rate: 1.0000e-05\n",
            "Epoch 8/15\n",
            "\u001b[1m405/405\u001b[0m \u001b[32m━━━━━━━━━━━━━━━━━━━━\u001b[0m\u001b[37m\u001b[0m \u001b[1m578s\u001b[0m 1s/step - accuracy: 0.8400 - loss: 0.4427 - val_accuracy: 0.8194 - val_loss: 0.4988 - learning_rate: 1.0000e-05\n",
            "Epoch 9/15\n",
            "\u001b[1m405/405\u001b[0m \u001b[32m━━━━━━━━━━━━━━━━━━━━\u001b[0m\u001b[37m\u001b[0m \u001b[1m573s\u001b[0m 1s/step - accuracy: 0.8303 - loss: 0.4146 - val_accuracy: 0.8000 - val_loss: 0.5176 - learning_rate: 1.0000e-05\n",
            "Epoch 10/15\n",
            "\u001b[1m405/405\u001b[0m \u001b[32m━━━━━━━━━━━━━━━━━━━━\u001b[0m\u001b[37m\u001b[0m \u001b[1m578s\u001b[0m 1s/step - accuracy: 0.8291 - loss: 0.4307 - val_accuracy: 0.7944 - val_loss: 0.5436 - learning_rate: 1.0000e-05\n",
            "Epoch 11/15\n",
            "\u001b[1m405/405\u001b[0m \u001b[32m━━━━━━━━━━━━━━━━━━━━\u001b[0m\u001b[37m\u001b[0m \u001b[1m572s\u001b[0m 1s/step - accuracy: 0.8493 - loss: 0.4020 - val_accuracy: 0.8222 - val_loss: 0.4696 - learning_rate: 1.0000e-05\n",
            "Epoch 12/15\n",
            "\u001b[1m405/405\u001b[0m \u001b[32m━━━━━━━━━━━━━━━━━━━━\u001b[0m\u001b[37m\u001b[0m \u001b[1m586s\u001b[0m 1s/step - accuracy: 0.8626 - loss: 0.3737 - val_accuracy: 0.8250 - val_loss: 0.4748 - learning_rate: 1.0000e-05\n",
            "Epoch 13/15\n",
            "\u001b[1m405/405\u001b[0m \u001b[32m━━━━━━━━━━━━━━━━━━━━\u001b[0m\u001b[37m\u001b[0m \u001b[1m584s\u001b[0m 1s/step - accuracy: 0.8732 - loss: 0.3472 - val_accuracy: 0.7750 - val_loss: 0.5781 - learning_rate: 1.0000e-05\n",
            "Epoch 14/15\n",
            "\u001b[1m405/405\u001b[0m \u001b[32m━━━━━━━━━━━━━━━━━━━━\u001b[0m\u001b[37m\u001b[0m \u001b[1m577s\u001b[0m 1s/step - accuracy: 0.8806 - loss: 0.3420 - val_accuracy: 0.8250 - val_loss: 0.4734 - learning_rate: 1.0000e-05\n",
            "Epoch 15/15\n",
            "\u001b[1m405/405\u001b[0m \u001b[32m━━━━━━━━━━━━━━━━━━━━\u001b[0m\u001b[37m\u001b[0m \u001b[1m574s\u001b[0m 1s/step - accuracy: 0.8768 - loss: 0.3303 - val_accuracy: 0.8333 - val_loss: 0.4645 - learning_rate: 3.0000e-06\n"
          ]
        }
      ],
      "source": [
        "from tensorflow.keras.preprocessing.image import ImageDataGenerator\n",
        "\n",
        "datagen = ImageDataGenerator(\n",
        "    rotation_range=20,          # 회전\n",
        "    width_shift_range=0.1,      # 가로 이동\n",
        "    height_shift_range=0.1,     # 세로 이동\n",
        "    shear_range=0.1,            # 전단\n",
        "    zoom_range=0.2,             # 확대/축소\n",
        "    horizontal_flip=True,       # 좌우 반전\n",
        "    fill_mode='nearest'         # 빈 영역 보정 방식\n",
        ")\n",
        "\n",
        "train_generator = datagen.flow(train_images, train_labels, batch_size=8)\n",
        "\n",
        "hist = model.fit(\n",
        "    train_generator,\n",
        "    epochs=15,\n",
        "    validation_data=(val_images, val_labels),\n",
        "    callbacks=[early_stop, reduce_lr],\n",
        "    steps_per_epoch=len(train_images) // 8  # 증강은 batch 기반이라 꼭 필요함\n",
        ")\n"
      ]
    },
    {
      "cell_type": "markdown",
      "metadata": {
        "id": "nHFgXlvllIxv"
      },
      "source": []
    },
    {
      "cell_type": "markdown",
      "metadata": {
        "id": "ZhW3Llkrn7K4"
      },
      "source": []
    },
    {
      "cell_type": "markdown",
      "metadata": {
        "id": "p9ZG3SeclLhp"
      },
      "source": [
        "# 6.테스트셋 평가"
      ]
    },
    {
      "cell_type": "markdown",
      "metadata": {
        "id": "wagcRjXWlbEx"
      },
      "source": [
        "## 6.1 테스트셋 평가"
      ]
    },
    {
      "cell_type": "code",
      "execution_count": 9,
      "metadata": {
        "colab": {
          "base_uri": "https://localhost:8080/"
        },
        "id": "kxJW92MemjgX",
        "outputId": "cc48b3d8-7e0c-4eeb-d82e-66b1a177219e"
      },
      "outputs": [
        {
          "name": "stdout",
          "output_type": "stream",
          "text": [
            "\u001b[1m13/13\u001b[0m \u001b[32m━━━━━━━━━━━━━━━━━━━━\u001b[0m\u001b[37m\u001b[0m \u001b[1m11s\u001b[0m 816ms/step - accuracy: 0.8496 - loss: 0.4750\n",
            "Test Accuracy: 0.8500, Test Loss: 0.4507\n"
          ]
        }
      ],
      "source": [
        "test_loss, test_acc = model.evaluate(test_images, test_labels)\n",
        "print(f\"Test Accuracy: {test_acc:.4f}, Test Loss: {test_loss:.4f}\")"
      ]
    },
    {
      "cell_type": "markdown",
      "metadata": {
        "id": "u3BOdYQbml_Z"
      },
      "source": [
        "Keras 방식의 테스트 정확도 계산"
      ]
    },
    {
      "cell_type": "code",
      "execution_count": 10,
      "metadata": {
        "colab": {
          "base_uri": "https://localhost:8080/"
        },
        "id": "VKl1qyX7W-2-",
        "outputId": "27361d7e-e28a-4255-b4a3-5bef419ff579"
      },
      "outputs": [
        {
          "name": "stdout",
          "output_type": "stream",
          "text": [
            "실행 시작: 2025-06-01 04:44:59\n",
            "테스트 정확도: 0.8500\n",
            "실행 종료: 2025-06-01 04:45:10\n",
            "총 실행 시간: 10.76초\n"
          ]
        }
      ],
      "source": [
        "import time\n",
        "from datetime import datetime\n",
        "\n",
        "start_time = time.time()\n",
        "start_dt = datetime.now().strftime(\"%Y-%m-%d %H:%M:%S\")\n",
        "print(f\"실행 시작: {start_dt}\")\n",
        "\n",
        "# 평가\n",
        "test_loss, test_acc = model.evaluate(test_images, test_labels, verbose=0)\n",
        "print(f\"테스트 정확도: {test_acc:.4f}\")\n",
        "\n",
        "end_time = time.time()\n",
        "end_dt = datetime.now().strftime(\"%Y-%m-%d %H:%M:%S\")\n",
        "print(f\"실행 종료: {end_dt}\")\n",
        "print(f\"총 실행 시간: {end_time - start_time:.2f}초\")\n",
        "\n",
        "\n"
      ]
    },
    {
      "cell_type": "markdown",
      "metadata": {
        "id": "74Nu1y7sld6X"
      },
      "source": [
        "## 6.2 모델저장"
      ]
    },
    {
      "cell_type": "markdown",
      "metadata": {
        "id": "S1yerXPApXEG"
      },
      "source": [
        "자신의 드라이브에 저장되는 것이므로 파일 저장후 공용드라이브로 옮겨주어야 합니다."
      ]
    },
    {
      "cell_type": "code",
      "execution_count": 5,
      "metadata": {
        "colab": {
          "base_uri": "https://localhost:8080/"
        },
        "id": "bBCuQy6nlgFN",
        "outputId": "2e1dbfe3-f9e4-422e-b188-e7f80b513eaf"
      },
      "outputs": [
        {
          "name": "stdout",
          "output_type": "stream",
          "text": [
            "실행 시작: 2025-06-04 19:09:26\n"
          ]
        },
        {
          "name": "stderr",
          "output_type": "stream",
          "text": [
            "WARNING:absl:You are saving your model as an HDF5 file via `model.save()` or `keras.saving.save_model(model)`. This file format is considered legacy. We recommend using instead the native Keras format, e.g. `model.save('my_model.keras')` or `keras.saving.save_model(model, 'my_model.keras')`. \n"
          ]
        },
        {
          "name": "stdout",
          "output_type": "stream",
          "text": [
            "✅ .keras 형식으로 저장됨: ./0604models\\puppySenseModel_2025-06-04.keras\n",
            "✅ .h5 형식으로 저장됨: ./0604models\\puppySenseModel_2025-06-04.h5\n",
            "실행 종료: 2025-06-04 19:09:29\n",
            "총 실행 시간: 2.82초\n"
          ]
        }
      ],
      "source": [
        "import os\n",
        "import time\n",
        "from datetime import datetime\n",
        "import tensorflow as tf\n",
        "from tensorflow.keras.applications import EfficientNetB4\n",
        "from tensorflow.keras.models import Sequential\n",
        "from tensorflow.keras.layers import Dense\n",
        "\n",
        "# 실행 시간 측정 시작\n",
        "start_time = time.time()\n",
        "start_dt = datetime.now().strftime(\"%Y-%m-%d %H:%M:%S\")\n",
        "print(f\"실행 시작: {start_dt}\")\n",
        "\n",
        "# 저장 디렉토리 설정\n",
        "model_dir = \"./0604models\"\n",
        "\n",
        "# 🔧 파일로 존재하는 경우 삭제\n",
        "if os.path.exists(model_dir) and not os.path.isdir(model_dir):\n",
        "    os.remove(model_dir)\n",
        "\n",
        "# 디렉토리 생성\n",
        "os.makedirs(model_dir, exist_ok=True)\n",
        "\n",
        "# 오늘 날짜\n",
        "today_str = datetime.now().strftime(\"%Y-%m-%d\")\n",
        "\n",
        "# 저장 경로들\n",
        "keras_path = os.path.join(model_dir, f\"puppySenseModel_{today_str}.keras\")\n",
        "h5_path = os.path.join(model_dir, f\"puppySenseModel_{today_str}.h5\")\n",
        "\n",
        "# ✅ EfficientNetB4 기반 모델 정의\n",
        "model = Sequential([\n",
        "    EfficientNetB4(\n",
        "        include_top=False,\n",
        "        weights='imagenet',\n",
        "        input_shape=(224, 224, 3),\n",
        "        pooling='avg'\n",
        "    ),\n",
        "    Dense(4, activation='softmax')  # 예시: 감정 클래스 수가 4개일 경우\n",
        "])\n",
        "\n",
        "# ⚠️ EfficientNet 사용 시에는 일반적으로 분류 문제로 가정하고 compile\n",
        "model.compile(optimizer='adam', loss='categorical_crossentropy')\n",
        "\n",
        "# ✅ .keras 형식 저장\n",
        "model.save(keras_path)\n",
        "print(f\"✅ .keras 형식으로 저장됨: {keras_path}\")\n",
        "\n",
        "# ✅ .h5 형식 저장\n",
        "model.save(h5_path)\n",
        "print(f\"✅ .h5 형식으로 저장됨: {h5_path}\")\n",
        "\n",
        "# 실행 시간 측정 종료\n",
        "end_time = time.time()\n",
        "end_dt = datetime.now().strftime(\"%Y-%m-%d %H:%M:%S\")\n",
        "print(f\"실행 종료: {end_dt}\")\n",
        "print(f\"총 실행 시간: {end_time - start_time:.2f}초\")\n"
      ]
    },
    {
      "cell_type": "code",
      "execution_count": 12,
      "metadata": {},
      "outputs": [
        {
          "name": "stderr",
          "output_type": "stream",
          "text": [
            "c:\\Users\\oculo\\Desktop\\test\\artificialin\\.conda\\Lib\\site-packages\\keras\\src\\saving\\saving_lib.py:802: UserWarning: Skipping variable loading for optimizer 'adam', because it has 10 variables whereas the saved optimizer has 2 variables. \n",
            "  saveable.load_own_variables(weights_store.get(inner_path))\n"
          ]
        },
        {
          "ename": "FailedPreconditionError",
          "evalue": "C:\\Users\\oculo\\Desktop\\2025-01\\2025-01\\인공지능응용\\플젝 파일\\tfmodels is not a directory",
          "output_type": "error",
          "traceback": [
            "\u001b[31m---------------------------------------------------------------------------\u001b[39m",
            "\u001b[31mFailedPreconditionError\u001b[39m                   Traceback (most recent call last)",
            "\u001b[36mCell\u001b[39m\u001b[36m \u001b[39m\u001b[32mIn[12]\u001b[39m\u001b[32m, line 20\u001b[39m\n\u001b[32m     17\u001b[39m savedmodel_path = os.path.join(save_dir, \u001b[33mf\u001b[39m\u001b[33m\"\u001b[39m\u001b[33mpuppySenseModel_\u001b[39m\u001b[38;5;132;01m{\u001b[39;00mtoday_str\u001b[38;5;132;01m}\u001b[39;00m\u001b[33m_savedmodel\u001b[39m\u001b[33m\"\u001b[39m)\n\u001b[32m     19\u001b[39m \u001b[38;5;66;03m# 3. SavedModel 포맷으로 내보내기 (Keras 3.x)\u001b[39;00m\n\u001b[32m---> \u001b[39m\u001b[32m20\u001b[39m \u001b[43mmodel\u001b[49m\u001b[43m.\u001b[49m\u001b[43mexport\u001b[49m\u001b[43m(\u001b[49m\u001b[43msavedmodel_path\u001b[49m\u001b[43m)\u001b[49m\n\u001b[32m     21\u001b[39m \u001b[38;5;28mprint\u001b[39m(\u001b[33mf\u001b[39m\u001b[33m\"\u001b[39m\u001b[33m✅ SavedModel 포맷으로 저장됨: \u001b[39m\u001b[38;5;132;01m{\u001b[39;00msavedmodel_path\u001b[38;5;132;01m}\u001b[39;00m\u001b[33m\"\u001b[39m)\n",
            "\u001b[36mFile \u001b[39m\u001b[32mc:\\Users\\oculo\\Desktop\\test\\artificialin\\.conda\\Lib\\site-packages\\keras\\src\\models\\model.py:608\u001b[39m, in \u001b[36mModel.export\u001b[39m\u001b[34m(self, filepath, format, verbose, input_signature, **kwargs)\u001b[39m\n\u001b[32m    602\u001b[39m     \u001b[38;5;28;01mraise\u001b[39;00m \u001b[38;5;167;01mValueError\u001b[39;00m(\n\u001b[32m    603\u001b[39m         \u001b[33mf\u001b[39m\u001b[33m\"\u001b[39m\u001b[33mUnrecognized format=\u001b[39m\u001b[38;5;132;01m{\u001b[39;00m\u001b[38;5;28mformat\u001b[39m\u001b[38;5;132;01m}\u001b[39;00m\u001b[33m. Supported formats are: \u001b[39m\u001b[33m\"\u001b[39m\n\u001b[32m    604\u001b[39m         \u001b[33mf\u001b[39m\u001b[33m\"\u001b[39m\u001b[38;5;132;01m{\u001b[39;00m\u001b[38;5;28mlist\u001b[39m(available_formats)\u001b[38;5;132;01m}\u001b[39;00m\u001b[33m.\u001b[39m\u001b[33m\"\u001b[39m\n\u001b[32m    605\u001b[39m     )\n\u001b[32m    607\u001b[39m \u001b[38;5;28;01mif\u001b[39;00m \u001b[38;5;28mformat\u001b[39m == \u001b[33m\"\u001b[39m\u001b[33mtf_saved_model\u001b[39m\u001b[33m\"\u001b[39m:\n\u001b[32m--> \u001b[39m\u001b[32m608\u001b[39m     \u001b[43mexport_saved_model\u001b[49m\u001b[43m(\u001b[49m\n\u001b[32m    609\u001b[39m \u001b[43m        \u001b[49m\u001b[38;5;28;43mself\u001b[39;49m\u001b[43m,\u001b[49m\n\u001b[32m    610\u001b[39m \u001b[43m        \u001b[49m\u001b[43mfilepath\u001b[49m\u001b[43m,\u001b[49m\n\u001b[32m    611\u001b[39m \u001b[43m        \u001b[49m\u001b[43mverbose\u001b[49m\u001b[43m,\u001b[49m\n\u001b[32m    612\u001b[39m \u001b[43m        \u001b[49m\u001b[43minput_signature\u001b[49m\u001b[43m=\u001b[49m\u001b[43minput_signature\u001b[49m\u001b[43m,\u001b[49m\n\u001b[32m    613\u001b[39m \u001b[43m        \u001b[49m\u001b[43m*\u001b[49m\u001b[43m*\u001b[49m\u001b[43mkwargs\u001b[49m\u001b[43m,\u001b[49m\n\u001b[32m    614\u001b[39m \u001b[43m    \u001b[49m\u001b[43m)\u001b[49m\n\u001b[32m    615\u001b[39m \u001b[38;5;28;01melif\u001b[39;00m \u001b[38;5;28mformat\u001b[39m == \u001b[33m\"\u001b[39m\u001b[33monnx\u001b[39m\u001b[33m\"\u001b[39m:\n\u001b[32m    616\u001b[39m     export_onnx(\n\u001b[32m    617\u001b[39m         \u001b[38;5;28mself\u001b[39m,\n\u001b[32m    618\u001b[39m         filepath,\n\u001b[32m   (...)\u001b[39m\u001b[32m    621\u001b[39m         **kwargs,\n\u001b[32m    622\u001b[39m     )\n",
            "\u001b[36mFile \u001b[39m\u001b[32mc:\\Users\\oculo\\Desktop\\test\\artificialin\\.conda\\Lib\\site-packages\\keras\\src\\export\\saved_model.py:656\u001b[39m, in \u001b[36mexport_saved_model\u001b[39m\u001b[34m(model, filepath, verbose, input_signature, **kwargs)\u001b[39m\n\u001b[32m    651\u001b[39m     input_signature = get_input_signature(model)\n\u001b[32m    653\u001b[39m export_archive.track_and_add_endpoint(\n\u001b[32m    654\u001b[39m     DEFAULT_ENDPOINT_NAME, model, input_signature, **kwargs\n\u001b[32m    655\u001b[39m )\n\u001b[32m--> \u001b[39m\u001b[32m656\u001b[39m \u001b[43mexport_archive\u001b[49m\u001b[43m.\u001b[49m\u001b[43mwrite_out\u001b[49m\u001b[43m(\u001b[49m\u001b[43mfilepath\u001b[49m\u001b[43m,\u001b[49m\u001b[43m \u001b[49m\u001b[43mverbose\u001b[49m\u001b[43m=\u001b[49m\u001b[43mverbose\u001b[49m\u001b[43m)\u001b[49m\n",
            "\u001b[36mFile \u001b[39m\u001b[32mc:\\Users\\oculo\\Desktop\\test\\artificialin\\.conda\\Lib\\site-packages\\keras\\src\\export\\saved_model.py:521\u001b[39m, in \u001b[36mExportArchive.write_out\u001b[39m\u001b[34m(self, filepath, options, verbose)\u001b[39m\n\u001b[32m    516\u001b[39m \u001b[38;5;28;01mif\u001b[39;00m \u001b[33m\"\u001b[39m\u001b[33mserving_default\u001b[39m\u001b[33m\"\u001b[39m \u001b[38;5;129;01mnot\u001b[39;00m \u001b[38;5;129;01min\u001b[39;00m \u001b[38;5;28mself\u001b[39m._endpoint_names:\n\u001b[32m    517\u001b[39m     signatures[\u001b[33m\"\u001b[39m\u001b[33mserving_default\u001b[39m\u001b[33m\"\u001b[39m] = \u001b[38;5;28mself\u001b[39m._get_concrete_fn(\n\u001b[32m    518\u001b[39m         \u001b[38;5;28mself\u001b[39m._endpoint_names[\u001b[32m0\u001b[39m]\n\u001b[32m    519\u001b[39m     )\n\u001b[32m--> \u001b[39m\u001b[32m521\u001b[39m \u001b[43mtf\u001b[49m\u001b[43m.\u001b[49m\u001b[43msaved_model\u001b[49m\u001b[43m.\u001b[49m\u001b[43msave\u001b[49m\u001b[43m(\u001b[49m\n\u001b[32m    522\u001b[39m \u001b[43m    \u001b[49m\u001b[38;5;28;43mself\u001b[39;49m\u001b[43m.\u001b[49m\u001b[43m_tf_trackable\u001b[49m\u001b[43m,\u001b[49m\n\u001b[32m    523\u001b[39m \u001b[43m    \u001b[49m\u001b[43mfilepath\u001b[49m\u001b[43m,\u001b[49m\n\u001b[32m    524\u001b[39m \u001b[43m    \u001b[49m\u001b[43moptions\u001b[49m\u001b[43m=\u001b[49m\u001b[43moptions\u001b[49m\u001b[43m,\u001b[49m\n\u001b[32m    525\u001b[39m \u001b[43m    \u001b[49m\u001b[43msignatures\u001b[49m\u001b[43m=\u001b[49m\u001b[43msignatures\u001b[49m\u001b[43m,\u001b[49m\n\u001b[32m    526\u001b[39m \u001b[43m\u001b[49m\u001b[43m)\u001b[49m\n\u001b[32m    528\u001b[39m \u001b[38;5;66;03m# Print out available endpoints\u001b[39;00m\n\u001b[32m    529\u001b[39m \u001b[38;5;28;01mif\u001b[39;00m verbose:\n",
            "\u001b[36mFile \u001b[39m\u001b[32mc:\\Users\\oculo\\Desktop\\test\\artificialin\\.conda\\Lib\\site-packages\\tensorflow\\python\\saved_model\\save.py:1432\u001b[39m, in \u001b[36msave\u001b[39m\u001b[34m(obj, export_dir, signatures, options)\u001b[39m\n\u001b[32m   1430\u001b[39m \u001b[38;5;66;03m# pylint: enable=line-too-long\u001b[39;00m\n\u001b[32m   1431\u001b[39m metrics.IncrementWriteApi(_SAVE_V2_LABEL)\n\u001b[32m-> \u001b[39m\u001b[32m1432\u001b[39m \u001b[43msave_and_return_nodes\u001b[49m\u001b[43m(\u001b[49m\u001b[43mobj\u001b[49m\u001b[43m,\u001b[49m\u001b[43m \u001b[49m\u001b[43mexport_dir\u001b[49m\u001b[43m,\u001b[49m\u001b[43m \u001b[49m\u001b[43msignatures\u001b[49m\u001b[43m,\u001b[49m\u001b[43m \u001b[49m\u001b[43moptions\u001b[49m\u001b[43m)\u001b[49m\n\u001b[32m   1434\u001b[39m metrics.IncrementWrite(write_version=\u001b[33m\"\u001b[39m\u001b[33m2\u001b[39m\u001b[33m\"\u001b[39m)\n",
            "\u001b[36mFile \u001b[39m\u001b[32mc:\\Users\\oculo\\Desktop\\test\\artificialin\\.conda\\Lib\\site-packages\\tensorflow\\python\\saved_model\\save.py:1474\u001b[39m, in \u001b[36msave_and_return_nodes\u001b[39m\u001b[34m(obj, export_dir, signatures, options, experimental_skip_checkpoint)\u001b[39m\n\u001b[32m   1471\u001b[39m \u001b[38;5;66;03m# Write the checkpoint, copy assets into the assets directory, and write out\u001b[39;00m\n\u001b[32m   1472\u001b[39m \u001b[38;5;66;03m# the SavedModel proto itself.\u001b[39;00m\n\u001b[32m   1473\u001b[39m \u001b[38;5;28;01mif\u001b[39;00m \u001b[38;5;129;01mnot\u001b[39;00m experimental_skip_checkpoint:\n\u001b[32m-> \u001b[39m\u001b[32m1474\u001b[39m   \u001b[43mpath_helpers\u001b[49m\u001b[43m.\u001b[49m\u001b[43mget_or_create_variables_dir\u001b[49m\u001b[43m(\u001b[49m\u001b[43mexport_dir\u001b[49m\u001b[43m)\u001b[49m\n\u001b[32m   1475\u001b[39m   ckpt_options = checkpoint_options.CheckpointOptions(\n\u001b[32m   1476\u001b[39m       experimental_io_device=options.experimental_io_device,\n\u001b[32m   1477\u001b[39m       experimental_sharding_callback=options.experimental_sharding_callback)\n\u001b[32m   1478\u001b[39m   object_saver.save(\n\u001b[32m   1479\u001b[39m       path_helpers.get_variables_path(export_dir), options=ckpt_options)\n",
            "\u001b[36mFile \u001b[39m\u001b[32mc:\\Users\\oculo\\Desktop\\test\\artificialin\\.conda\\Lib\\site-packages\\tensorflow\\python\\saved_model\\path_helpers.py:26\u001b[39m, in \u001b[36mget_or_create_variables_dir\u001b[39m\u001b[34m(export_dir)\u001b[39m\n\u001b[32m     24\u001b[39m \u001b[38;5;250m\u001b[39m\u001b[33;03m\"\"\"Return variables sub-directory, or create one if it doesn't exist.\"\"\"\u001b[39;00m\n\u001b[32m     25\u001b[39m variables_dir = get_variables_dir(export_dir)\n\u001b[32m---> \u001b[39m\u001b[32m26\u001b[39m \u001b[43mfile_io\u001b[49m\u001b[43m.\u001b[49m\u001b[43mrecursive_create_dir\u001b[49m\u001b[43m(\u001b[49m\u001b[43mvariables_dir\u001b[49m\u001b[43m)\u001b[49m\n\u001b[32m     27\u001b[39m \u001b[38;5;28;01mreturn\u001b[39;00m variables_dir\n",
            "\u001b[36mFile \u001b[39m\u001b[32mc:\\Users\\oculo\\Desktop\\test\\artificialin\\.conda\\Lib\\site-packages\\tensorflow\\python\\lib\\io\\file_io.py:498\u001b[39m, in \u001b[36mrecursive_create_dir\u001b[39m\u001b[34m(dirname)\u001b[39m\n\u001b[32m    486\u001b[39m \u001b[38;5;129m@tf_export\u001b[39m(v1=[\u001b[33m\"\u001b[39m\u001b[33mgfile.MakeDirs\u001b[39m\u001b[33m\"\u001b[39m])\n\u001b[32m    487\u001b[39m \u001b[38;5;28;01mdef\u001b[39;00m\u001b[38;5;250m \u001b[39m\u001b[34mrecursive_create_dir\u001b[39m(dirname):\n\u001b[32m    488\u001b[39m \u001b[38;5;250m  \u001b[39m\u001b[33;03m\"\"\"Creates a directory and all parent/intermediate directories.\u001b[39;00m\n\u001b[32m    489\u001b[39m \n\u001b[32m    490\u001b[39m \u001b[33;03m  It succeeds if dirname already exists and is writable.\u001b[39;00m\n\u001b[32m   (...)\u001b[39m\u001b[32m    496\u001b[39m \u001b[33;03m    errors.OpError: If the operation fails.\u001b[39;00m\n\u001b[32m    497\u001b[39m \u001b[33;03m  \"\"\"\u001b[39;00m\n\u001b[32m--> \u001b[39m\u001b[32m498\u001b[39m   \u001b[43mrecursive_create_dir_v2\u001b[49m\u001b[43m(\u001b[49m\u001b[43mdirname\u001b[49m\u001b[43m)\u001b[49m\n",
            "\u001b[36mFile \u001b[39m\u001b[32mc:\\Users\\oculo\\Desktop\\test\\artificialin\\.conda\\Lib\\site-packages\\tensorflow\\python\\lib\\io\\file_io.py:513\u001b[39m, in \u001b[36mrecursive_create_dir_v2\u001b[39m\u001b[34m(path)\u001b[39m\n\u001b[32m    501\u001b[39m \u001b[38;5;129m@tf_export\u001b[39m(\u001b[33m\"\u001b[39m\u001b[33mio.gfile.makedirs\u001b[39m\u001b[33m\"\u001b[39m)\n\u001b[32m    502\u001b[39m \u001b[38;5;28;01mdef\u001b[39;00m\u001b[38;5;250m \u001b[39m\u001b[34mrecursive_create_dir_v2\u001b[39m(path):\n\u001b[32m    503\u001b[39m \u001b[38;5;250m  \u001b[39m\u001b[33;03m\"\"\"Creates a directory and all parent/intermediate directories.\u001b[39;00m\n\u001b[32m    504\u001b[39m \n\u001b[32m    505\u001b[39m \u001b[33;03m  It succeeds if path already exists and is writable.\u001b[39;00m\n\u001b[32m   (...)\u001b[39m\u001b[32m    511\u001b[39m \u001b[33;03m    errors.OpError: If the operation fails.\u001b[39;00m\n\u001b[32m    512\u001b[39m \u001b[33;03m  \"\"\"\u001b[39;00m\n\u001b[32m--> \u001b[39m\u001b[32m513\u001b[39m   \u001b[43m_pywrap_file_io\u001b[49m\u001b[43m.\u001b[49m\u001b[43mRecursivelyCreateDir\u001b[49m\u001b[43m(\u001b[49m\u001b[43mcompat\u001b[49m\u001b[43m.\u001b[49m\u001b[43mpath_to_bytes\u001b[49m\u001b[43m(\u001b[49m\u001b[43mpath\u001b[49m\u001b[43m)\u001b[49m\u001b[43m)\u001b[49m\n",
            "\u001b[31mFailedPreconditionError\u001b[39m: C:\\Users\\oculo\\Desktop\\2025-01\\2025-01\\인공지능응용\\플젝 파일\\tfmodels is not a directory"
          ]
        }
      ],
      "source": [
        "import tensorflow as tf\n",
        "import os\n",
        "from datetime import datetime\n",
        "\n",
        "# 1. Keras 모델 불러오기\n",
        "keras_model_path = r\"C:\\Users\\oculo\\Desktop\\2025-01\\2025-01\\인공지능응용\\플젝 파일\\models\\puppySenseModel_2025-06-01.keras\"\n",
        "model = tf.keras.models.load_model(keras_model_path)\n",
        "\n",
        "# 2. SavedModel 저장 경로 준비\n",
        "save_dir = r\"C:\\Users\\oculo\\Desktop\\2025-01\\2025-01\\인공지능응용\\플젝 파일\\tfmodels\"\n",
        "if os.path.exists(save_dir):\n",
        "    if os.path.isfile(save_dir):\n",
        "        os.remove(save_dir)\n",
        "os.makedirs(save_dir, exist_ok=True)\n",
        "\n",
        "today_str = datetime.now().strftime(\"%Y-%m-%d\")\n",
        "savedmodel_path = os.path.join(save_dir, f\"puppySenseModel_{today_str}_savedmodel\")\n",
        "\n",
        "# 3. SavedModel 포맷으로 내보내기 (Keras 3.x)\n",
        "model.export(savedmodel_path)\n",
        "print(f\"✅ SavedModel 포맷으로 저장됨: {savedmodel_path}\")\n",
        "\n"
      ]
    },
    {
      "cell_type": "markdown",
      "metadata": {
        "id": "pa0mNh9AlqOt"
      },
      "source": [
        "## 6.3 시각화"
      ]
    },
    {
      "cell_type": "code",
      "execution_count": 15,
      "metadata": {
        "colab": {
          "base_uri": "https://localhost:8080/",
          "height": 632
        },
        "id": "xxRc464CmwMY",
        "outputId": "7bae30bf-4bac-41ca-f7a0-699303fbfb99"
      },
      "outputs": [
        {
          "ename": "ValueError",
          "evalue": "Exception encountered when calling Sequential.call().\n\n\u001b[1mInvalid input shape for input Tensor(\"data:0\", shape=(32, 224, 224, 3), dtype=float32). Expected shape (None, 10), but input has incompatible shape (32, 224, 224, 3)\u001b[0m\n\nArguments received by Sequential.call():\n  • inputs=tf.Tensor(shape=(32, 224, 224, 3), dtype=float32)\n  • training=False\n  • mask=None\n  • kwargs=<class 'inspect._empty'>",
          "output_type": "error",
          "traceback": [
            "\u001b[31m---------------------------------------------------------------------------\u001b[39m",
            "\u001b[31mValueError\u001b[39m                                Traceback (most recent call last)",
            "\u001b[36mCell\u001b[39m\u001b[36m \u001b[39m\u001b[32mIn[15]\u001b[39m\u001b[32m, line 8\u001b[39m\n\u001b[32m      5\u001b[39m class_names = [\u001b[33m'\u001b[39m\u001b[33mangry\u001b[39m\u001b[33m'\u001b[39m, \u001b[33m'\u001b[39m\u001b[33mhappy\u001b[39m\u001b[33m'\u001b[39m, \u001b[33m'\u001b[39m\u001b[33mrelaxed\u001b[39m\u001b[33m'\u001b[39m, \u001b[33m'\u001b[39m\u001b[33msad\u001b[39m\u001b[33m'\u001b[39m]\n\u001b[32m      7\u001b[39m \u001b[38;5;66;03m# 예측 확률\u001b[39;00m\n\u001b[32m----> \u001b[39m\u001b[32m8\u001b[39m y_pred = \u001b[43mmodel\u001b[49m\u001b[43m.\u001b[49m\u001b[43mpredict\u001b[49m\u001b[43m(\u001b[49m\u001b[43mtest_images\u001b[49m\u001b[43m)\u001b[49m  \u001b[38;5;66;03m# shape: (4000, 4)\u001b[39;00m\n\u001b[32m     10\u001b[39m \u001b[38;5;66;03m# 예측 클래스 (argmax)\u001b[39;00m\n\u001b[32m     11\u001b[39m y_pred_class = np.argmax(y_pred, axis=\u001b[32m1\u001b[39m)\n",
            "\u001b[36mFile \u001b[39m\u001b[32mc:\\Users\\oculo\\Desktop\\test\\artificialin\\.conda\\Lib\\site-packages\\keras\\src\\utils\\traceback_utils.py:122\u001b[39m, in \u001b[36mfilter_traceback.<locals>.error_handler\u001b[39m\u001b[34m(*args, **kwargs)\u001b[39m\n\u001b[32m    119\u001b[39m     filtered_tb = _process_traceback_frames(e.__traceback__)\n\u001b[32m    120\u001b[39m     \u001b[38;5;66;03m# To get the full stack trace, call:\u001b[39;00m\n\u001b[32m    121\u001b[39m     \u001b[38;5;66;03m# `keras.config.disable_traceback_filtering()`\u001b[39;00m\n\u001b[32m--> \u001b[39m\u001b[32m122\u001b[39m     \u001b[38;5;28;01mraise\u001b[39;00m e.with_traceback(filtered_tb) \u001b[38;5;28;01mfrom\u001b[39;00m\u001b[38;5;250m \u001b[39m\u001b[38;5;28;01mNone\u001b[39;00m\n\u001b[32m    123\u001b[39m \u001b[38;5;28;01mfinally\u001b[39;00m:\n\u001b[32m    124\u001b[39m     \u001b[38;5;28;01mdel\u001b[39;00m filtered_tb\n",
            "\u001b[36mFile \u001b[39m\u001b[32mc:\\Users\\oculo\\Desktop\\test\\artificialin\\.conda\\Lib\\site-packages\\keras\\src\\models\\functional.py:276\u001b[39m, in \u001b[36mFunctional._adjust_input_rank\u001b[39m\u001b[34m(self, flat_inputs)\u001b[39m\n\u001b[32m    274\u001b[39m             adjusted.append(ops.expand_dims(x, axis=-\u001b[32m1\u001b[39m))\n\u001b[32m    275\u001b[39m             \u001b[38;5;28;01mcontinue\u001b[39;00m\n\u001b[32m--> \u001b[39m\u001b[32m276\u001b[39m     \u001b[38;5;28;01mraise\u001b[39;00m \u001b[38;5;167;01mValueError\u001b[39;00m(\n\u001b[32m    277\u001b[39m         \u001b[33mf\u001b[39m\u001b[33m\"\u001b[39m\u001b[33mInvalid input shape for input \u001b[39m\u001b[38;5;132;01m{\u001b[39;00mx\u001b[38;5;132;01m}\u001b[39;00m\u001b[33m. Expected shape \u001b[39m\u001b[33m\"\u001b[39m\n\u001b[32m    278\u001b[39m         \u001b[33mf\u001b[39m\u001b[33m\"\u001b[39m\u001b[38;5;132;01m{\u001b[39;00mref_shape\u001b[38;5;132;01m}\u001b[39;00m\u001b[33m, but input has incompatible shape \u001b[39m\u001b[38;5;132;01m{\u001b[39;00mx.shape\u001b[38;5;132;01m}\u001b[39;00m\u001b[33m\"\u001b[39m\n\u001b[32m    279\u001b[39m     )\n\u001b[32m    280\u001b[39m \u001b[38;5;66;03m# Add back metadata.\u001b[39;00m\n\u001b[32m    281\u001b[39m \u001b[38;5;28;01mfor\u001b[39;00m i \u001b[38;5;129;01min\u001b[39;00m \u001b[38;5;28mrange\u001b[39m(\u001b[38;5;28mlen\u001b[39m(flat_inputs)):\n",
            "\u001b[31mValueError\u001b[39m: Exception encountered when calling Sequential.call().\n\n\u001b[1mInvalid input shape for input Tensor(\"data:0\", shape=(32, 224, 224, 3), dtype=float32). Expected shape (None, 10), but input has incompatible shape (32, 224, 224, 3)\u001b[0m\n\nArguments received by Sequential.call():\n  • inputs=tf.Tensor(shape=(32, 224, 224, 3), dtype=float32)\n  • training=False\n  • mask=None\n  • kwargs=<class 'inspect._empty'>"
          ]
        }
      ],
      "source": [
        "import matplotlib.pyplot as plt\n",
        "import numpy as np\n",
        "\n",
        "# 클래스 이름\n",
        "class_names = ['angry', 'happy', 'relaxed', 'sad']\n",
        "\n",
        "# 예측 확률\n",
        "y_pred = model.predict(test_images)  # shape: (4000, 4)\n",
        "\n",
        "# 예측 클래스 (argmax)\n",
        "y_pred_class = np.argmax(y_pred, axis=1)\n",
        "y_true_class = np.argmax(test_labels, axis=1)\n",
        "\n",
        "# 이미지 10개 출력\n",
        "fig = plt.figure(figsize=(15, 10))\n",
        "for j in range(10):\n",
        "    ax = fig.add_subplot(2, 5, j + 1)\n",
        "    ax.set_xticks([])\n",
        "    ax.set_yticks([])\n",
        "    ax.imshow(test_images[j])  # 정규화된 이미지면 되돌리기\n",
        "\n",
        "    true_label = class_names[y_true_class[j]]\n",
        "\n",
        "    # 확률 리스트 문자열 생성\n",
        "    prob_text = \"\\n\".join([\n",
        "        f\"{class_names[i]}: {y_pred[j][i]*100:.1f}%\" for i in range(len(class_names))\n",
        "    ])\n",
        "\n",
        "    # 텍스트 출력\n",
        "    ax.text(\n",
        "        0.5, -0.25,\n",
        "        f\"GT: {true_label}\\n{prob_text}\",\n",
        "        size=12,\n",
        "        ha='center',\n",
        "        va='center',\n",
        "        transform=ax.transAxes\n",
        "    )\n",
        "\n",
        "plt.tight_layout()\n",
        "plt.show()\n"
      ]
    },
    {
      "cell_type": "code",
      "execution_count": 16,
      "metadata": {
        "colab": {
          "base_uri": "https://localhost:8080/",
          "height": 876
        },
        "id": "-InunoyBp2Ul",
        "outputId": "0dfed15b-deff-4614-e86e-a49c632296a5"
      },
      "outputs": [
        {
          "data": {
            "image/png": "[encoded data removed]",
            "text/plain": [
              "<Figure size 700x500 with 1 Axes>"
            ]
          },
          "metadata": {},
          "output_type": "display_data"
        },
        {
          "data": {
            "image/png": "[encoded data removed]",
            "text/plain": [
              "<Figure size 560x400 with 1 Axes>"
            ]
          },
          "metadata": {},
          "output_type": "display_data"
        }
      ],
      "source": [
        "# 두 히스토리 합치기 (간단히 리스트 이어붙이기)\n",
        "for key in hist_fine.history.keys():\n",
        "    hist.history[key].extend(hist_fine.history[key])\n",
        "\n",
        "# 이제 hist.history에 10 epoch의 기록이 모두 들어있음\n",
        "\n",
        "# 에포크 수 및 히스토리 정보\n",
        "epochs = len(hist.history['loss'])  # epochs 수를 자동으로 가져옵니다\n",
        "train_loss = hist.history['loss']\n",
        "val_loss = hist.history['val_loss']\n",
        "train_acc = hist.history['accuracy']\n",
        "val_acc = hist.history['val_accuracy']\n",
        "xc = range(epochs)\n",
        "\n",
        "# 손실 그래프\n",
        "plt.figure(1, figsize=(7, 5))\n",
        "plt.plot(xc, train_loss, label='train')\n",
        "plt.plot(xc, val_loss, label='val')\n",
        "plt.xlabel('Epoch')\n",
        "plt.ylabel('Loss')\n",
        "plt.title('Training vs Validation Loss')\n",
        "plt.grid(True)\n",
        "plt.legend()\n",
        "plt.style.use(['classic'])\n",
        "\n",
        "# 정확도 그래프\n",
        "plt.figure(2, figsize=(7, 5))\n",
        "plt.plot(xc, train_acc, label='train')\n",
        "plt.plot(xc, val_acc, label='val')\n",
        "plt.xlabel('Epoch')\n",
        "plt.ylabel('Accuracy')\n",
        "plt.title('Training vs Validation Accuracy')\n",
        "plt.grid(True)\n",
        "plt.legend(loc='lower right')\n",
        "plt.style.use(['classic'])\n",
        "\n",
        "plt.show()\n"
      ]
    },
    {
      "cell_type": "code",
      "execution_count": 17,
      "metadata": {
        "colab": {
          "base_uri": "https://localhost:8080/",
          "height": 817
        },
        "id": "s5OkvRWnlsL_",
        "outputId": "aaff0dad-ca96-40c8-ef72-8056c61ab22b"
      },
      "outputs": [
        {
          "ename": "ValueError",
          "evalue": "Exception encountered when calling Sequential.call().\n\n\u001b[1mInvalid input shape for input Tensor(\"data:0\", shape=(32, 224, 224, 3), dtype=float32). Expected shape (None, 10), but input has incompatible shape (32, 224, 224, 3)\u001b[0m\n\nArguments received by Sequential.call():\n  • inputs=tf.Tensor(shape=(32, 224, 224, 3), dtype=float32)\n  • training=False\n  • mask=None\n  • kwargs=<class 'inspect._empty'>",
          "output_type": "error",
          "traceback": [
            "\u001b[31m---------------------------------------------------------------------------\u001b[39m",
            "\u001b[31mValueError\u001b[39m                                Traceback (most recent call last)",
            "\u001b[36mCell\u001b[39m\u001b[36m \u001b[39m\u001b[32mIn[17]\u001b[39m\u001b[32m, line 4\u001b[39m\n\u001b[32m      1\u001b[39m \u001b[38;5;28;01mfrom\u001b[39;00m\u001b[38;5;250m \u001b[39m\u001b[34;01msklearn\u001b[39;00m\u001b[34;01m.\u001b[39;00m\u001b[34;01mmetrics\u001b[39;00m\u001b[38;5;250m \u001b[39m\u001b[38;5;28;01mimport\u001b[39;00m classification_report, confusion_matrix\n\u001b[32m      2\u001b[39m \u001b[38;5;28;01mimport\u001b[39;00m\u001b[38;5;250m \u001b[39m\u001b[34;01mnumpy\u001b[39;00m\u001b[38;5;250m \u001b[39m\u001b[38;5;28;01mas\u001b[39;00m\u001b[38;5;250m \u001b[39m\u001b[34;01mnp\u001b[39;00m\n\u001b[32m----> \u001b[39m\u001b[32m4\u001b[39m y_pred = \u001b[43mmodel\u001b[49m\u001b[43m.\u001b[49m\u001b[43mpredict\u001b[49m\u001b[43m(\u001b[49m\u001b[43mtest_images\u001b[49m\u001b[43m)\u001b[49m\n\u001b[32m      5\u001b[39m y_pred_labels = np.argmax(y_pred, axis=\u001b[32m1\u001b[39m)\n\u001b[32m      6\u001b[39m y_true_labels = np.argmax(test_labels, axis=\u001b[32m1\u001b[39m)\n",
            "\u001b[36mFile \u001b[39m\u001b[32mc:\\Users\\oculo\\Desktop\\test\\artificialin\\.conda\\Lib\\site-packages\\keras\\src\\utils\\traceback_utils.py:122\u001b[39m, in \u001b[36mfilter_traceback.<locals>.error_handler\u001b[39m\u001b[34m(*args, **kwargs)\u001b[39m\n\u001b[32m    119\u001b[39m     filtered_tb = _process_traceback_frames(e.__traceback__)\n\u001b[32m    120\u001b[39m     \u001b[38;5;66;03m# To get the full stack trace, call:\u001b[39;00m\n\u001b[32m    121\u001b[39m     \u001b[38;5;66;03m# `keras.config.disable_traceback_filtering()`\u001b[39;00m\n\u001b[32m--> \u001b[39m\u001b[32m122\u001b[39m     \u001b[38;5;28;01mraise\u001b[39;00m e.with_traceback(filtered_tb) \u001b[38;5;28;01mfrom\u001b[39;00m\u001b[38;5;250m \u001b[39m\u001b[38;5;28;01mNone\u001b[39;00m\n\u001b[32m    123\u001b[39m \u001b[38;5;28;01mfinally\u001b[39;00m:\n\u001b[32m    124\u001b[39m     \u001b[38;5;28;01mdel\u001b[39;00m filtered_tb\n",
            "\u001b[36mFile \u001b[39m\u001b[32mc:\\Users\\oculo\\Desktop\\test\\artificialin\\.conda\\Lib\\site-packages\\keras\\src\\models\\functional.py:276\u001b[39m, in \u001b[36mFunctional._adjust_input_rank\u001b[39m\u001b[34m(self, flat_inputs)\u001b[39m\n\u001b[32m    274\u001b[39m             adjusted.append(ops.expand_dims(x, axis=-\u001b[32m1\u001b[39m))\n\u001b[32m    275\u001b[39m             \u001b[38;5;28;01mcontinue\u001b[39;00m\n\u001b[32m--> \u001b[39m\u001b[32m276\u001b[39m     \u001b[38;5;28;01mraise\u001b[39;00m \u001b[38;5;167;01mValueError\u001b[39;00m(\n\u001b[32m    277\u001b[39m         \u001b[33mf\u001b[39m\u001b[33m\"\u001b[39m\u001b[33mInvalid input shape for input \u001b[39m\u001b[38;5;132;01m{\u001b[39;00mx\u001b[38;5;132;01m}\u001b[39;00m\u001b[33m. Expected shape \u001b[39m\u001b[33m\"\u001b[39m\n\u001b[32m    278\u001b[39m         \u001b[33mf\u001b[39m\u001b[33m\"\u001b[39m\u001b[38;5;132;01m{\u001b[39;00mref_shape\u001b[38;5;132;01m}\u001b[39;00m\u001b[33m, but input has incompatible shape \u001b[39m\u001b[38;5;132;01m{\u001b[39;00mx.shape\u001b[38;5;132;01m}\u001b[39;00m\u001b[33m\"\u001b[39m\n\u001b[32m    279\u001b[39m     )\n\u001b[32m    280\u001b[39m \u001b[38;5;66;03m# Add back metadata.\u001b[39;00m\n\u001b[32m    281\u001b[39m \u001b[38;5;28;01mfor\u001b[39;00m i \u001b[38;5;129;01min\u001b[39;00m \u001b[38;5;28mrange\u001b[39m(\u001b[38;5;28mlen\u001b[39m(flat_inputs)):\n",
            "\u001b[31mValueError\u001b[39m: Exception encountered when calling Sequential.call().\n\n\u001b[1mInvalid input shape for input Tensor(\"data:0\", shape=(32, 224, 224, 3), dtype=float32). Expected shape (None, 10), but input has incompatible shape (32, 224, 224, 3)\u001b[0m\n\nArguments received by Sequential.call():\n  • inputs=tf.Tensor(shape=(32, 224, 224, 3), dtype=float32)\n  • training=False\n  • mask=None\n  • kwargs=<class 'inspect._empty'>"
          ]
        }
      ],
      "source": [
        "from sklearn.metrics import classification_report, confusion_matrix\n",
        "import numpy as np\n",
        "\n",
        "y_pred = model.predict(test_images)\n",
        "y_pred_labels = np.argmax(y_pred, axis=1)\n",
        "y_true_labels = np.argmax(test_labels, axis=1)\n",
        "\n",
        "print(classification_report(y_true_labels, y_pred_labels, target_names=class_names))\n",
        "\n",
        "# 혼동 행렬 시각화\n",
        "import seaborn as sns\n",
        "import matplotlib.pyplot as plt\n",
        "\n",
        "cm = confusion_matrix(y_true_labels, y_pred_labels)\n",
        "plt.figure(figsize=(10, 8))\n",
        "sns.heatmap(cm, annot=True, fmt='d', xticklabels=class_names, yticklabels=class_names, cmap='Blues')\n",
        "plt.xlabel('Predicted')\n",
        "plt.ylabel('True')\n",
        "plt.title('Confusion Matrix')\n",
        "plt.show()\n"
      ]
    },
    {
      "cell_type": "markdown",
      "metadata": {
        "id": "MuY04qYjlqN2"
      },
      "source": []
    }
  ],
  "metadata": {
    "accelerator": "GPU",
    "colab": {
      "gpuType": "T4",
      "provenance": []
    },
    "kernelspec": {
      "display_name": "Python 3",
      "name": "python3"
    },
    "language_info": {
      "codemirror_mode": {
        "name": "ipython",
        "version": 3
      },
      "file_extension": ".py",
      "mimetype": "text/x-python",
      "name": "python",
      "nbconvert_exporter": "python",
      "pygments_lexer": "ipython3",
      "version": "3.11.11"
    }
  },
  "nbformat": 4,
  "nbformat_minor": 0
}
